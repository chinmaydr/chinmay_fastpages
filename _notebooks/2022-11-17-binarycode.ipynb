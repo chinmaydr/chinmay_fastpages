{
 "cells": [
  {
   "cell_type": "markdown",
   "metadata": {},
   "source": [
    "# Binary Programming\n",
    "- title: Python Binary operations program\n",
    "- toc: true\n",
    "- permalink: /Binary\n",
    "- tags: [Week 13]\n",
    "- type: pbl\n",
    "- week: 13"
   ]
  },
  {
   "cell_type": "code",
   "execution_count": 1,
   "metadata": {},
   "outputs": [
    {
     "name": "stdout",
     "output_type": "stream",
     "text": [
      "decimal sum: 25\n",
      "binary sum: 11001\n",
      "decimal difference: -1\n",
      "binary difference: -1\n",
      "decimal product: 156\n",
      "binary product: 10011100\n",
      "decimal quotient: 0\n",
      "binary quotient: 0\n",
      "decimal remainder: 12\n",
      "binary remainder: 1100\n"
     ]
    }
   ],
   "source": [
    "def takeinput(ct):\n",
    "    numtype = input(ct+\": int or bin?\")\n",
    "    num = input(ct+\": please enter your number\")\n",
    "    if numtype == \"int\":\n",
    "        num = int(num)\n",
    "    return num\n",
    "def bintoint(s):\n",
    "    ct = 0\n",
    "    ans = 0\n",
    "    for i in s[::-1]:\n",
    "        if i == \"1\":\n",
    "            ans += 2**ct\n",
    "        ct += 1\n",
    "    return ans\n",
    "def inttobin(num):\n",
    "    if num == 0:\n",
    "        return 0\n",
    "    ct = 0\n",
    "    ans = \"\"\n",
    "    while(2**ct <= num):\n",
    "        ct += 1\n",
    "    ct -= 1\n",
    "    while(ct >= 0):\n",
    "        if num >= 2**ct:\n",
    "            num -= 2**ct\n",
    "            ans += \"1\"\n",
    "        else:\n",
    "            ans += \"0\"\n",
    "        ct -= 1\n",
    "    return ans\n",
    "num1 = takeinput(\"1\")\n",
    "num2 = takeinput(\"2\")\n",
    "if type(num1) == type(\"a\"):\n",
    "    num1 = bintoint(num1)\n",
    "if type(num2) == type(\"a\"):\n",
    "    num2 = bintoint(num2)\n",
    "print(\"decimal sum: \"+str(num1+num2))\n",
    "print(\"binary sum: \"+str(inttobin(num1+num2)))\n",
    "print(\"decimal difference: \"+str(num1-num2))\n",
    "if num1 >= num2:\n",
    "    print(\"binary difference: \"+str(inttobin(num1-num2)))\n",
    "else:\n",
    "    print(\"binary difference: -\"+str(inttobin(num2-num1)))\n",
    "print(\"decimal product: \"+str(num1*num2))\n",
    "print(\"binary product: \"+str(inttobin(num1*num2)))\n",
    "print(\"decimal quotient: \"+str(num1//num2))\n",
    "print(\"binary quotient: \"+str(inttobin(num1//num2)))\n",
    "print(\"decimal remainder: \"+str(num1%num2))\n",
    "print(\"binary remainder: \"+str(inttobin(num1%num2)))"
   ]
  }
 ],
 "metadata": {
  "kernelspec": {
   "display_name": "Python 3.8.10 64-bit",
   "language": "python",
   "name": "python3"
  },
  "language_info": {
   "codemirror_mode": {
    "name": "ipython",
    "version": 3
   },
   "file_extension": ".py",
   "mimetype": "text/x-python",
   "name": "python",
   "nbconvert_exporter": "python",
   "pygments_lexer": "ipython3",
   "version": "3.8.10"
  },
  "orig_nbformat": 4,
  "vscode": {
   "interpreter": {
    "hash": "916dbcbb3f70747c44a77c7bcd40155683ae19c65e1c03b4aa3499c5328201f1"
   }
  }
 },
 "nbformat": 4,
 "nbformat_minor": 2
}
