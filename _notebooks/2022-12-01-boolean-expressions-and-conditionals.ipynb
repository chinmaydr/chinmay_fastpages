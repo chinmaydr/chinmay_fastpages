{
 "cells": [
  {
   "attachments": {},
   "cell_type": "markdown",
   "metadata": {},
   "source": [
    "# 3.5-7\n",
    "- title: 3.5-7\n",
    "- toc: true\n",
    "- permalink: /bool\n",
    "- tags: [Week 13]\n",
    "- type: pbl\n",
    "- week: 13"
   ]
  },
  {
   "cell_type": "code",
   "execution_count": 2,
   "metadata": {},
   "outputs": [
    {
     "name": "stdout",
     "output_type": "stream",
     "text": [
      "True: True\n",
      "True: True\n",
      "False: False\n",
      "True: True\n",
      "False: False\n",
      "True: True\n",
      "\n",
      "True: True\n",
      "False: False\n",
      "False: False\n",
      "True: True\n",
      "False: False\n",
      "True: True\n",
      "\n"
     ]
    }
   ],
   "source": [
    "print(\"True:\",4 == 4)\n",
    "print(\"True:\",1 > 0)\n",
    "print(\"False:\",7 <= 3)\n",
    "print(\"True:\",5 != 6)\n",
    "print(\"False:\",7 == 8)\n",
    "print(\"True:\",3 == 3)\n",
    "print('')\n",
    "\n",
    "# Same as above, but now for other values other than int\n",
    "print('True:',\"as\" ==\"as\")\n",
    "print(\"False:\",True == False)\n",
    "print(\"False:\",[2,3,1] < [2,3,1])\n",
    "print(\"True:\",'af' <='bc')\n",
    "print(\"False:\",'ce' > 'cf')\n",
    "print(\"True:\",[1,'b'] > [1,'a'])\n",
    "print('')"
   ]
  },
  {
   "cell_type": "code",
   "execution_count": 3,
   "metadata": {},
   "outputs": [
    {
     "name": "stdout",
     "output_type": "stream",
     "text": [
      "True: True\n",
      "False: False\n",
      "True: True\n",
      "False: False\n",
      "False: False\n",
      "True: True\n"
     ]
    }
   ],
   "source": [
    "print(\"True:\", True or False)\n",
    "print(\"False:\",  not True)\n",
    "print(\"True:\", True and True)\n",
    "print(\"False:\",  not True)\n",
    "print(\"False:\", True and False)\n",
    "print(\"True:\",  not False)"
   ]
  },
  {
   "cell_type": "code",
   "execution_count": 5,
   "metadata": {},
   "outputs": [
    {
     "name": "stdout",
     "output_type": "stream",
     "text": [
      "your old\n"
     ]
    }
   ],
   "source": [
    "Age = 30; \n",
    "if (Age == 30): \n",
    "    print(\"your old\") \n",
    "else: \n",
    "    print(\"you should retire\"); \n",
    "if (Age > 50): \n",
    "    print(\"You have a beard\"); "
   ]
  },
  {
   "cell_type": "code",
   "execution_count": 7,
   "metadata": {},
   "outputs": [
    {
     "name": "stdout",
     "output_type": "stream",
     "text": [
      "The binary form of the decimal number 0 is 1010\n",
      "The octal form of the decimal number 0 is 12\n"
     ]
    }
   ],
   "source": [
    "# Challenge: Decimal to Binary Converter\n",
    "number = int(input(\"What number would you like to convert? Please enter an Integer\"))\n",
    "pow = 0\n",
    "while 2**pow <= number:\n",
    "    pow += 1\n",
    "answer = \"\"\n",
    "for i in range(pow-1,-1,-1):\n",
    "    if number >= 2**i:\n",
    "        answer += \"1\"\n",
    "        number -= 2**i\n",
    "    else:\n",
    "        answer += \"0\"\n",
    "print(\"The binary form of the decimal number \" + str(number) + \" is \" + answer)\n",
    "bintooct = {\"000\":\"0\",\"001\":\"1\",\"010\":\"2\",\"011\":\"3\",\"100\":\"4\",\"101\":\"5\",\"110\":\"6\",\"111\":\"7\"}\n",
    "while len(answer)%3 != 0:\n",
    "    answer = \"0\"+answer\n",
    "oct = \"\"\n",
    "for i in range(0,len(answer)-2,3):\n",
    "    oct += bintooct[answer[i:i+3]]\n",
    "print(\"The octal form of the decimal number \" + str(number) + \" is \" + oct)"
   ]
  },
  {
   "cell_type": "markdown",
   "metadata": {},
   "source": [
    "# Notes:\n",
    "  - A boolean is an expression that can be true or false\n",
    "  - Boolean operators include:\n",
    "    - Not: !,changes true to false and false to true\n",
    "    - And: and, returns true if two boolean expressions are true\n",
    "    - Or: or, returns true if one of two boolean expressions are true\n",
    "    - Xor: returns true if two boolean expressions are different(both trye or both false)\n",
    "    - <,>, >=, <= : Mathematical operators which return true if a number or string(alphabetically) is that operator relative to the other one\n",
    "  - Comparison operators can be used with arrays two, looking at the first index, then the second, and so on\n"
   ]
  }
 ],
 "metadata": {
  "kernelspec": {
   "display_name": "Python 3.9.12 ('base')",
   "language": "python",
   "name": "python3"
  },
  "language_info": {
   "codemirror_mode": {
    "name": "ipython",
    "version": 3
   },
   "file_extension": ".py",
   "mimetype": "text/x-python",
   "name": "python",
   "nbconvert_exporter": "python",
   "pygments_lexer": "ipython3",
   "version": "3.9.12 (main, Apr  5 2022, 06:56:58) \n[GCC 7.5.0]"
  },
  "orig_nbformat": 4,
  "vscode": {
   "interpreter": {
    "hash": "d9767bb80f0c926f2be51240ea78c27eb3c7b52dd704c89ce42f210d283b4c5b"
   }
  }
 },
 "nbformat": 4,
 "nbformat_minor": 2
}
