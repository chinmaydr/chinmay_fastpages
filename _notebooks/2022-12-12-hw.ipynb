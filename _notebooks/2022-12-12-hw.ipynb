{
 "cells": [
  {
   "attachments": {},
   "cell_type": "markdown",
   "metadata": {},
   "source": [
    "# Unit 3 Lesson 16, Student Copy\n",
    "- toc: true\n",
    "- comments: true\n"
   ]
  },
  {
   "cell_type": "code",
   "execution_count": 2,
   "metadata": {},
   "outputs": [
    {
     "name": "stdout",
     "output_type": "stream",
     "text": [
      "27\n"
     ]
    }
   ],
   "source": [
    "# Class activity 1\n",
    "import random\n",
    "lowest = int(input(\"Enter what you want the smallest number to be\"))\n",
    "highest = int(input(\"Enter what you want the greatest number to be\"))\n",
    "x = random.randint(lowest,highest)\n",
    "print(x)"
   ]
  },
  {
   "cell_type": "code",
   "execution_count": 3,
   "metadata": {},
   "outputs": [
    {
     "name": "stdout",
     "output_type": "stream",
     "text": [
      "['red shoes', 'green pants', 'tie', 'belt', 'nerd shirt']\n"
     ]
    }
   ],
   "source": [
    "def mycloset():\n",
    "    myclothes = [\"red shoes\", \"green pants\", \"tie\", \"belt\"]\n",
    "    newclothes = [\"nerd shirt\", \"hawaian shorts\", \"jacket\",\"socks\"]\n",
    "    choice = input(\"what would you like to do?\")\n",
    "    if choice == \"add\":\n",
    "        myclothes.append(random.choice(newclothes))\n",
    "    else:\n",
    "        myclothes.remove(random.choice(myclothes))\n",
    "    print(myclothes)\n",
    "mycloset()"
   ]
  },
  {
   "cell_type": "code",
   "execution_count": 6,
   "metadata": {},
   "outputs": [
    {
     "name": "stdout",
     "output_type": "stream",
     "text": [
      "Tails\n",
      "Heads\n",
      "Heads\n",
      "Heads\n",
      "Heads\n"
     ]
    }
   ],
   "source": [
    "def coinflip():         #def function \n",
    "    randomflip = random.randint(0, 2) #picks either 0 or 1 randomly (50/50 chance of either) \n",
    "    if randomflip <= 1: #assigning 0 to be heads--> if 0 is chosen then it will print, \"Heads\"\n",
    "        print(\"Heads\")\n",
    "    else:\n",
    "        if randomflip == 2: #assigning 1 to be tails--> if 1 is chosen then it will print, \"Tails\"\n",
    "            print(\"Tails\")\n",
    "\n",
    "#Tossing the coin 5 times:\n",
    "t1 = coinflip()\n",
    "t2 = coinflip()\n",
    "t3 = coinflip()\n",
    "t4 = coinflip()\n",
    "t5 = coinflip()"
   ]
  },
  {
   "attachments": {},
   "cell_type": "markdown",
   "metadata": {},
   "source": [
    "### Hack #1 - Class Notes\n",
    "\n",
    "- simulations are computers representing real world ideas\n",
    "- they can accurately represent situations under considerations\n",
    "  - however, simulations may not be fully accurate, as they contain error\n",
    "  - thse errors are called bias\n",
    "- simulations can be used in:\n",
    "  - video games\n",
    "  - molecular and chemical models\n",
    "  - predicting how machines will work\n",
    "  - flight simulator\n",
    "  - and more\n",
    "- we can use random values to represent real world randomness like weather\n",
    "- Simulations save time and effort and money of building andtesting a real thing"
   ]
  },
  {
   "attachments": {},
   "cell_type": "markdown",
   "metadata": {},
   "source": [
    "### Hack #2 - Functions Classwork"
   ]
  },
  {
   "cell_type": "code",
   "execution_count": null,
   "metadata": {},
   "outputs": [],
   "source": [
    "# All work for Hack 2 is in the cells above the hacks"
   ]
  },
  {
   "cell_type": "markdown",
   "metadata": {},
   "source": [
    "### Hack #3 - Binary Simulation Problem"
   ]
  },
  {
   "cell_type": "code",
   "execution_count": 1,
   "metadata": {},
   "outputs": [
    {
     "name": "stdout",
     "output_type": "stream",
     "text": [
      "Emu\n",
      "Tom Holland\n",
      "Tobey Maguire\n"
     ]
    }
   ],
   "source": [
    "# insert your zombie simulation here; you don't have to use this template but it will help you get started\n",
    "\n",
    "import random\n",
    "\n",
    "def randomnum(): # function for generating random int\n",
    "    return random.randint(0,255)\n",
    "\n",
    "def converttobin(num): # function for converting decimal to binary\n",
    "    ans = \"\"\n",
    "    for i in range(7,-1,-1):\n",
    "        if num >= 2**i:\n",
    "            num -= 2**i\n",
    "            ans += \"1\"\n",
    "        else:\n",
    "            ans += \"0\"\n",
    "    return ans\n",
    "\n",
    "def survivors(): # function to assign position\n",
    "    survivorstatus = [\"Chinmay\", \"SHEESH\", \"Emu\", \"Mr. Life meme\" , \"VP\", \"Andrew Garfield\", \"Tom Holland\", \"Tobey Maguire\"]\n",
    "    status = converttobin(randomnum())\n",
    "    for i in range(len(status)):\n",
    "        if status[i] == '1':\n",
    "            print(survivorstatus[i])\n",
    "    # replace the names above with your choice of people in the house\n",
    "survivors()"
   ]
  },
  {
   "cell_type": "markdown",
   "metadata": {},
   "source": [
    "### Hack #4 - Thinking through a problem\n",
    "- create your own simulation involving a dice roll\n",
    "- should include randomization and a function for rolling + multiple trials"
   ]
  },
  {
   "cell_type": "code",
   "execution_count": 20,
   "metadata": {},
   "outputs": [
    {
     "name": "stdout",
     "output_type": "stream",
     "text": [
      "1\n",
      "1\n",
      "2\n",
      "2\n",
      "6\n",
      "3\n",
      "4\n",
      "1\n",
      "1\n",
      "1\n"
     ]
    }
   ],
   "source": [
    "def diceroll():\n",
    "    return random.randint(1,6)\n",
    "for i in range(10):\n",
    "    print(diceroll())"
   ]
  },
  {
   "attachments": {},
   "cell_type": "markdown",
   "metadata": {},
   "source": [
    "### Hack 5 - Applying your knowledge to situation based problems\n",
    "\n",
    "Using the questions bank below, create a quiz that presents the user a random question and calculates the user's score. You can use the template below or make your own. Making your own using a loop can give you extra points. "
   ]
  },
  {
   "attachments": {},
   "cell_type": "markdown",
   "metadata": {},
   "source": [
    "1. A researcher gathers data about the effect of Advanced Placement®︎ classes on students' success in college and career, and develops a simulation to show how a sequence of AP classes affect a hypothetical student's pathway.Several school administrators are concerned that the simulation contains bias favoring high-income students, however.\n",
    "    - answer options:\n",
    "        1. The simulation is an abstraction and therefore cannot contain any bias\n",
    "        2. The simulation may accidentally contain bias due to the exclusion of details. ANSWER\n",
    "        3. If the simulation is found to contain bias, then it is not possible to remove the bias from the simulation.\n",
    "        4. The only way for the simulation to be biased is if the researcher intentionally used data that favored their desired output.\n",
    "2. Jack is trying to plan his financial future using an online tool. The tool starts off by asking him to input details about his current finances and career. It then lets him choose different future scenarios, such as having children. For each scenario chosen, the tool does some calculations and outputs his projected savings at the ages of 35, 45, and 55.Would that be considered a simulation and why?\n",
    "    - answer options\n",
    "        1. No, it's not a simulation because it does not include a visualization of the results.\n",
    "        2. No, it's not a simulation because it does not include all the details of his life history and the future financial environment.\n",
    "        3. Yes, it's a simulation because it runs on a computer and includes both user input and computed output. ANSWER\n",
    "        4. Yes, it's a simulation because it is an abstraction of a real world scenario that enables the drawing of inferences.\n",
    "3. Sylvia is an industrial engineer working for a sporting goods company. She is developing a baseball bat that can hit balls with higher accuracy and asks their software engineering team to develop a simulation to verify the design.Which of the following details is most important to include in this simulation?\n",
    "    - answer options\n",
    "        1. Realistic sound effects based on the material of the baseball bat and the velocity of the hit\n",
    "        2. A depiction of an audience in the stands with lifelike behavior in response to hit accuracy\n",
    "        3. Accurate accounting for the effects of wind conditions on the movement of the ball ANSWER\n",
    "        4. A baseball field that is textured to differentiate between the grass and the dirt \n",
    "4. Ashlynn is an industrial engineer who is trying to design a safer parachute. She creates a computer simulation of the parachute opening at different heights and in different environmental conditions.What are advantages of running the simulation versus an actual experiment?\n",
    "    - answer options\n",
    "        1. The simulation will not contain any bias that favors one body type over another, while an experiment will be biased.\n",
    "        2. The simulation can be run more safely than an actual experiment ANSWER\n",
    "        3. The simulation will accurately predict the parachute's safety level, while an experiment may be inaccurate due to faulty experimental design.\n",
    "        4. The simulation can test the parachute design in a wide range of environmental conditions that may be difficult to reliably reproduce in an experiment. ANSWER\n",
    "    * this question has 2 correct answers\n",
    "5. YOUR OWN QUESTION; can be situational, pseudo code based, or vocab/concept based\n",
    "6. YOUR OWN QUESTION; can be situational, pseudo code based, or vocab/concept based"
   ]
  },
  {
   "cell_type": "code",
   "execution_count": 3,
   "metadata": {},
   "outputs": [
    {
     "name": "stdout",
     "output_type": "stream",
     "text": [
      "A researcher gathers data about the effect of Advanced Placement®︎ classes on students' success in college and career, and develops a simulation to show how a sequence of AP classes affect a hypothetical student's pathway.Several school administrators are concerned that the simulation contains bias favoring high-income students, however.\n",
      "1. The simulation is an abstraction and therefore cannot contain any bias \n",
      "2. The simulation may accidentally contain bias due to the exclusion of details. \n",
      "3. If the simulation is found to contain bias, then it is not possible to remove the bias from the simulation. \n",
      "4. The only way for the simulation to be biased is if the researcher intentionally used data that favored their desired output.\n",
      "\n",
      "you got it wrong\n",
      "\n",
      "What is an advantage of using a simultion as opposed to building and testing something in real life?\n",
      "1. It's more fun \n",
      "2. It's the trend \n",
      "3. Computers can simulate with 100 percent accuracy no matter the conditions \n",
      "4. It can produce more reliable reliable results, and save time and money\n",
      "\n",
      "you got it wrong\n",
      "\n",
      "Ashlynn is an industrial engineer who is trying to design a safer parachute. She creates a computer simulation of the parachute opening at different heights and in different environmental conditions.What are advantages of running the simulation versus an actual experiment?\n",
      "1. The simulation will not contain any bias that favors one body type over another, while an experiment will be biased.\n",
      "2. The simulation can be run more safely than an actual experiment\n",
      "3. The simulation will accurately predict the parachute's safety level, while an experiment may be inaccurate due to faulty experimental design.\n",
      "4. The simulation can test the parachute design in a wide range of environmental conditions that may be difficult to reliably reproduce in an experiment.\n",
      "\n",
      "you got it wrong\n",
      "\n",
      "Jack is trying to plan his financial future using an online tool. The tool starts off by asking him to input details about his current finances and career. It then lets him choose different future scenarios, such as having children. For each scenario chosen, the tool does some calculations and outputs his projected savings at the ages of 35, 45, and 55.Would that be considered a simulation and why?\n",
      "1. No, it's not a simulation because it does not include a visualization of the results.\n",
      "2. No, it's not a simulation because it does not include all the details of his life history and the future financial environment.\n",
      "3. Yes, it's a simulation because it runs on a computer and includes both user input and computed output.\n",
      "4. Yes, it's a simulation because it is an abstraction of a real world scenario that enables the drawing of inferences.\n",
      "\n",
      "you got it wrong\n",
      "\n",
      "Sylvia is an industrial engineer working for a sporting goods company. She is developing a baseball bat that can hit balls with higher accuracy and asks their software engineering team to develop a simulation to verify the design.Which of the following details is most important to include in this simulation?\n",
      "1. Realistic sound effects based on the material of the baseball bat and the velocity of the hit\n",
      "2. A depiction of an audience in the stands with lifelike behavior in response to hit accuracy\n",
      "3. Accurate accounting for the effects of wind conditions on the movement of the ball\n",
      "4. A baseball field that is textured to differentiate between the grass and the dirt\n",
      "\n",
      "you got it wrong\n",
      "\n",
      "What is a simulation that includes variables that would be different in real life called?\n",
      "1. Bias \n",
      "2. Abstraction \n",
      "3. Experimentation \n",
      "Algorithm\n",
      "\n",
      "good job!\n",
      "\n",
      "Good Job! You scored 1/6! That is a 0.16666666666666666%\n"
     ]
    }
   ],
   "source": [
    "questions = [\"A researcher gathers data about the effect of Advanced Placement®︎ classes on students' success in college and career, and develops a simulation to show how a sequence of AP classes affect a hypothetical student's pathway.Several school administrators are concerned that the simulation contains bias favoring high-income students, however.\",\n",
    "             \"Jack is trying to plan his financial future using an online tool. The tool starts off by asking him to input details about his current finances and career. It then lets him choose different future scenarios, such as having children. For each scenario chosen, the tool does some calculations and outputs his projected savings at the ages of 35, 45, and 55.Would that be considered a simulation and why?\",\n",
    "             \"Sylvia is an industrial engineer working for a sporting goods company. She is developing a baseball bat that can hit balls with higher accuracy and asks their software engineering team to develop a simulation to verify the design.Which of the following details is most important to include in this simulation?\",\n",
    "             \"Ashlynn is an industrial engineer who is trying to design a safer parachute. She creates a computer simulation of the parachute opening at different heights and in different environmental conditions.What are advantages of running the simulation versus an actual experiment?\",\n",
    "             \"What is a simulation that includes variables that would be different in real life called?\",\n",
    "             \"What is an advantage of using a simultion as opposed to building and testing something in real life?\"]\n",
    "answers = [\"2\",\"3\",\"3\",\"24\",\"1\",\"4\"]\n",
    "order = [0,1,2,3,4,5]\n",
    "options = [\"1. The simulation is an abstraction and therefore cannot contain any bias \\n2. The simulation may accidentally contain bias due to the exclusion of details. \\n3. If the simulation is found to contain bias, then it is not possible to remove the bias from the simulation. \\n4. The only way for the simulation to be biased is if the researcher intentionally used data that favored their desired output.\",\n",
    "           \"1. No, it's not a simulation because it does not include a visualization of the results.\\n2. No, it's not a simulation because it does not include all the details of his life history and the future financial environment.\\n3. Yes, it's a simulation because it runs on a computer and includes both user input and computed output.\\n4. Yes, it's a simulation because it is an abstraction of a real world scenario that enables the drawing of inferences.\",\n",
    "           \"1. Realistic sound effects based on the material of the baseball bat and the velocity of the hit\\n2. A depiction of an audience in the stands with lifelike behavior in response to hit accuracy\\n3. Accurate accounting for the effects of wind conditions on the movement of the ball\\n4. A baseball field that is textured to differentiate between the grass and the dirt\",\n",
    "           \"1. The simulation will not contain any bias that favors one body type over another, while an experiment will be biased.\\n2. The simulation can be run more safely than an actual experiment\\n3. The simulation will accurately predict the parachute's safety level, while an experiment may be inaccurate due to faulty experimental design.\\n4. The simulation can test the parachute design in a wide range of environmental conditions that may be difficult to reliably reproduce in an experiment.\",\n",
    "           \"1. Bias \\n2. Abstraction \\n3. Experimentation \\nAlgorithm\",\n",
    "           \"1. It's more fun \\n2. It's the trend \\n3. Computers can simulate with 100 percent accuracy no matter the conditions \\n4. It can produce more reliable reliable results, and save time and money\"]\n",
    "random.shuffle(order)\n",
    "correct = 0\n",
    "for i in order:\n",
    "    print(questions[i])\n",
    "    print(options[i])\n",
    "    print(\"\")\n",
    "    ans = input(\"which option do you choose?\")\n",
    "    if ans in answers[i]:\n",
    "        correct += 1\n",
    "        print(\"good job!\")\n",
    "    else:\n",
    "        print(\"you got it wrong\")\n",
    "    print(\"\")\n",
    "print(\"Good Job! You scored \" + str(correct) +\"/6! That is a \" + str(correct/6) + \"%\")\n",
    "\n"
   ]
  },
  {
   "attachments": {},
   "cell_type": "markdown",
   "metadata": {},
   "source": [
    "### Hack #6 / Challenge - Taking real life problems and implementing them into code"
   ]
  },
  {
   "attachments": {},
   "cell_type": "markdown",
   "metadata": {},
   "source": [
    "Create your own simulation based on your experiences/knowledge!\n",
    "Be creative! Think about instances in your own life, science, puzzles that can be made into simulations\n",
    "\n",
    "Some ideas to get your brain running: A simulation that breeds two plants and tells you phenotypes of offspring, an adventure simulation..."
   ]
  },
  {
   "cell_type": "code",
   "execution_count": 8,
   "metadata": {},
   "outputs": [
    {
     "name": "stdout",
     "output_type": "stream",
     "text": [
      "Welcome to Math Class!\n",
      "You have a 0 percent in the class!\n",
      "You got a 64 percent on quiz1!\n",
      "\n",
      "You have a 64.0 percent in the class!\n",
      "You studied for 2 hours!\n",
      "You got a 61 percent on test1!\n",
      "\n",
      "You have a 61.6 percent in the class!\n",
      "You got a 72 percent on quiz2!\n",
      "\n",
      "You have a 63.33333333333333 percent in the class!\n",
      "You studied for 5 hours!\n",
      "You got a 77 percent on test2!\n",
      "\n",
      "You have a 71.14285714285714 percent in the class!\n",
      "You got a 84 percent on quiz3!\n",
      "\n",
      "You have a 72.0 percent in the class!\n",
      "You studied for 4 hours!\n",
      "You got a 70 percent on test3!\n",
      "\n",
      "You have a 71.11111111111111 percent in the class!\n",
      "You got a 67 percent on quiz4!\n",
      "\n",
      "You have a 70.96428571428571 percent in the class!\n",
      "You studied for 5 hours!\n",
      "You got a 97 percent on test4!\n",
      "\n",
      "Good job! Your final grade in the class is a(n) 78.77499999999999! You got a(n) C in the class!\n"
     ]
    }
   ],
   "source": [
    "# Math class simulation\n",
    "print(\"Welcome to Math Class!\")\n",
    "points = 0\n",
    "totpoints = 0\n",
    "percent = 0\n",
    "quizzes = [25,25,25,25]\n",
    "tests = [100,200,300,300]\n",
    "for i in range(4):\n",
    "    print(\"You have a \"+str(percent*100)+\" percent in the class!\")\n",
    "    studytime = int(input(\"How much will you study for quiz \" + str(i+1) + \"? Enter a number of hours between 0 and 5\"))\n",
    "    score = 50+(5*studytime)+random.randint(0,25)\n",
    "    totpoints += quizzes[i]\n",
    "    points += ((score/100)*quizzes[i])\n",
    "    percent = points/totpoints\n",
    "    print(\"You got a \"+str(score)+\" percent on quiz\" + str(i+1) + \"!\")\n",
    "    print(\"\")\n",
    "    print(\"You have a \"+str(percent*100)+\" percent in the class!\")\n",
    "    studytime = int(input(\"How much will you study for test \" + str(i+1) + \"? Enter a number of hours between 0 and 5\"))\n",
    "    print(\"You studied for \"+str(studytime)+\" hours!\")\n",
    "    score = 50+(5*studytime)+random.randint(0,25)\n",
    "    totpoints += tests[i]\n",
    "    points += ((score/100)*tests[i])\n",
    "    percent = points/totpoints\n",
    "    print(\"You got a \"+str(score)+\" percent on test\" + str(i+1) + \"!\")\n",
    "    print(\"\")\n",
    "grade = \"F\"\n",
    "if percent >= 0.6:\n",
    "    grade = \"D\"\n",
    "if percent >= 0.7:\n",
    "    grade = \"C\"\n",
    "if percent >= 0.8:\n",
    "    grade = \"B\"\n",
    "if percent >= 0.9:\n",
    "    grade = \"A\"\n",
    "print(\"Good job! Your final grade in the class is a(n) \"+str(percent*100)+\"! You got a(n) \"+grade+\" in the class!\")"
   ]
  }
 ],
 "metadata": {
  "kernelspec": {
   "display_name": "Python 3",
   "language": "python",
   "name": "python3"
  },
  "language_info": {
   "codemirror_mode": {
    "name": "ipython",
    "version": 3
   },
   "file_extension": ".py",
   "mimetype": "text/x-python",
   "name": "python",
   "nbconvert_exporter": "python",
   "pygments_lexer": "ipython3",
   "version": "3.8.10"
  },
  "orig_nbformat": 4,
  "vscode": {
   "interpreter": {
    "hash": "31f2aee4e71d21fbe5cf8b01ff0e069b9275f58929596ceb00d14d90e3e16cd6"
   }
  }
 },
 "nbformat": 4,
 "nbformat_minor": 2
}
