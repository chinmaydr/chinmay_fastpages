{
 "cells": [
  {
   "cell_type": "markdown",
   "metadata": {},
   "source": [
    "# API\n",
    "> I built an API for Wikipedia to use in our scrum project. We can use the API to get data from pages to insert notes and summaries into the academic organizer\n",
    "> Code from: https://pypi.org/project/Wikipedia-API/\n",
    "\n",
    "- title: Python API for wikipedia\n",
    "- toc: true\n",
    "- type: ap\n",
    "- tags: [Week 7]\n",
    "- week: 7"
   ]
  },
  {
   "cell_type": "code",
   "execution_count": 1,
   "metadata": {},
   "outputs": [],
   "source": [
    "import wikipediaapi"
   ]
  },
  {
   "cell_type": "code",
   "execution_count": 2,
   "metadata": {},
   "outputs": [],
   "source": [
    "wiki_wiki = wikipediaapi.Wikipedia('en')\n",
    "\n",
    "page_py = wiki_wiki.page('Python_(programming_language)')"
   ]
  },
  {
   "cell_type": "code",
   "execution_count": 11,
   "metadata": {},
   "outputs": [
    {
     "name": "stdout",
     "output_type": "stream",
     "text": [
      "Page - Exists: True\n",
      "Page - Exists: True\n",
      "Page - Exists: True\n",
      "Page - Exists: False\n"
     ]
    }
   ],
   "source": [
    "page_py = wiki_wiki.page('Python_(programming_language)')\n",
    "print(\"Page - Exists: %s\" % page_py.exists())\n",
    "# Page - Exists: True\n",
    "\n",
    "page_ele = wiki_wiki.page('Elephant')\n",
    "print(\"Page - Exists: %s\" %     page_ele.exists())\n",
    "\n",
    "page_john = wiki_wiki.page('John Cena')\n",
    "print(\"Page - Exists: %s\" %     page_john.exists())\n",
    "\n",
    "page_missing = wiki_wiki.page('dfhjhjkgdsjhkfs')\n",
    "print(\"Page - Exists: %s\" %     page_missing.exists())"
   ]
  },
  {
   "cell_type": "code",
   "execution_count": 10,
   "metadata": {},
   "outputs": [
    {
     "name": "stdout",
     "output_type": "stream",
     "text": [
      "Page - Title: John Cena\n",
      "Page - Summary: John Felix Anthony Cena ( SEE-nə; born April 23, 1977) is an American professional wrestler, actor, and former rapper. He is currently signed to WWE. Widely regarded as one of the greatest professional wrestlers of all time, he is tied with Ric Flair for the most world championship reigns in professional wrestling history.Cena moved to California in 1998 to pursue a career as a bodybuilder, and switched to professional wrestling in 1999 before making his debut for Ultimate Pro Wrestling (UPW). He signed with the World Wrestling Federation (WWF, now WWE) in 2001 and was assigned to Ohio Valley Wrestling (OVW), its developmental territory. After moving to WWE's SmackDown roster in 2002, Cena gained fame and success after adopting the character of a trash-talking rapper. He won his first singles title, the United States Championship, in 2004. The next year, he won the WWE Championship, and his character soon changed into a clean-cut and heroic one. He led the company as its franchise play\n"
     ]
    }
   ],
   "source": [
    "wiki_wiki = wikipediaapi.Wikipedia('en')\n",
    "\n",
    "print(\"Page - Title: %s\" % page_john.title)\n",
    "# Page - Title: Python (programming language)\n",
    "\n",
    "print(\"Page - Summary: %s\" % page_john.summary[0:1000])\n",
    "# Page - Summary: Python is a widely used high-level programming language for"
   ]
  },
  {
   "cell_type": "code",
   "execution_count": 12,
   "metadata": {},
   "outputs": [
    {
     "name": "stdout",
     "output_type": "stream",
     "text": [
      "https://en.wikipedia.org/wiki/John_Cena\n"
     ]
    }
   ],
   "source": [
    "print(page_john.fullurl)"
   ]
  },
  {
   "cell_type": "code",
   "execution_count": 13,
   "metadata": {},
   "outputs": [
    {
     "name": "stdout",
     "output_type": "stream",
     "text": [
      "Category:1977 births: Category:1977 births (id: ??, ns: 14)\n",
      "Category:21st-century American male actors: Category:21st-century American male actors (id: ??, ns: 14)\n",
      "Category:21st-century American male musicians: Category:21st-century American male musicians (id: ??, ns: 14)\n",
      "Category:21st-century American rappers: Category:21st-century American rappers (id: ??, ns: 14)\n",
      "Category:21st-century professional wrestlers: Category:21st-century professional wrestlers (id: ??, ns: 14)\n",
      "Category:All Wikipedia articles written in American English: Category:All Wikipedia articles written in American English (id: ??, ns: 14)\n",
      "Category:All articles with unsourced statements: Category:All articles with unsourced statements (id: ??, ns: 14)\n",
      "Category:American car collectors: Category:American car collectors (id: ??, ns: 14)\n",
      "Category:American football offensive linemen: Category:American football offensive linemen (id: ??, ns: 14)\n",
      "Category:American game show hosts: Category:American game show hosts (id: ??, ns: 14)\n",
      "Category:American male film actors: Category:American male film actors (id: ??, ns: 14)\n",
      "Category:American male professional wrestlers: Category:American male professional wrestlers (id: ??, ns: 14)\n",
      "Category:American male rappers: Category:American male rappers (id: ??, ns: 14)\n",
      "Category:American male television actors: Category:American male television actors (id: ??, ns: 14)\n",
      "Category:American male voice actors: Category:American male voice actors (id: ??, ns: 14)\n",
      "Category:American people of English descent: Category:American people of English descent (id: ??, ns: 14)\n",
      "Category:American people of French-Canadian descent: Category:American people of French-Canadian descent (id: ??, ns: 14)\n",
      "Category:American philanthropists: Category:American philanthropists (id: ??, ns: 14)\n",
      "Category:American professional wrestlers of Italian descent: Category:American professional wrestlers of Italian descent (id: ??, ns: 14)\n",
      "Category:American sportspeople of Italian descent: Category:American sportspeople of Italian descent (id: ??, ns: 14)\n",
      "Category:American television hosts: Category:American television hosts (id: ??, ns: 14)\n",
      "Category:Articles with BIBSYS identifiers: Category:Articles with BIBSYS identifiers (id: ??, ns: 14)\n",
      "Category:Articles with BNE identifiers: Category:Articles with BNE identifiers (id: ??, ns: 14)\n",
      "Category:Articles with BNF identifiers: Category:Articles with BNF identifiers (id: ??, ns: 14)\n",
      "Category:Articles with FAST identifiers: Category:Articles with FAST identifiers (id: ??, ns: 14)\n",
      "Category:Articles with GND identifiers: Category:Articles with GND identifiers (id: ??, ns: 14)\n",
      "Category:Articles with ISNI identifiers: Category:Articles with ISNI identifiers (id: ??, ns: 14)\n",
      "Category:Articles with J9U identifiers: Category:Articles with J9U identifiers (id: ??, ns: 14)\n",
      "Category:Articles with LCCN identifiers: Category:Articles with LCCN identifiers (id: ??, ns: 14)\n",
      "Category:Articles with MusicBrainz identifiers: Category:Articles with MusicBrainz identifiers (id: ??, ns: 14)\n",
      "Category:Articles with NKC identifiers: Category:Articles with NKC identifiers (id: ??, ns: 14)\n",
      "Category:Articles with NLK identifiers: Category:Articles with NLK identifiers (id: ??, ns: 14)\n",
      "Category:Articles with NTA identifiers: Category:Articles with NTA identifiers (id: ??, ns: 14)\n",
      "Category:Articles with PLWABN identifiers: Category:Articles with PLWABN identifiers (id: ??, ns: 14)\n",
      "Category:Articles with RERO identifiers: Category:Articles with RERO identifiers (id: ??, ns: 14)\n",
      "Category:Articles with SUDOC identifiers: Category:Articles with SUDOC identifiers (id: ??, ns: 14)\n",
      "Category:Articles with VIAF identifiers: Category:Articles with VIAF identifiers (id: ??, ns: 14)\n",
      "Category:Articles with WORLDCATID identifiers: Category:Articles with WORLDCATID identifiers (id: ??, ns: 14)\n",
      "Category:Articles with hCards: Category:Articles with hCards (id: ??, ns: 14)\n",
      "Category:Articles with short description: Category:Articles with short description (id: ??, ns: 14)\n",
      "Category:Articles with unsourced statements from April 2022: Category:Articles with unsourced statements from April 2022 (id: ??, ns: 14)\n",
      "Category:Articles with unsourced statements from February 2017: Category:Articles with unsourced statements from February 2017 (id: ??, ns: 14)\n",
      "Category:Articles with unsourced statements from March 2019: Category:Articles with unsourced statements from March 2019 (id: ??, ns: 14)\n",
      "Category:Articles with unsourced statements from May 2021: Category:Articles with unsourced statements from May 2021 (id: ??, ns: 14)\n",
      "Category:Articles with unsourced statements from October 2018: Category:Articles with unsourced statements from October 2018 (id: ??, ns: 14)\n",
      "Category:CS1 Spanish-language sources (es): Category:CS1 Spanish-language sources (es) (id: ??, ns: 14)\n",
      "Category:Catholics from Florida: Category:Catholics from Florida (id: ??, ns: 14)\n",
      "Category:Catholics from Massachusetts: Category:Catholics from Massachusetts (id: ??, ns: 14)\n",
      "Category:Charity fundraisers (people): Category:Charity fundraisers (people) (id: ??, ns: 14)\n",
      "Category:Childfree: Category:Childfree (id: ??, ns: 14)\n",
      "Category:Columbia Records artists: Category:Columbia Records artists (id: ??, ns: 14)\n",
      "Category:Commons category link is on Wikidata: Category:Commons category link is on Wikidata (id: ??, ns: 14)\n",
      "Category:East Coast hip hop musicians: Category:East Coast hip hop musicians (id: ??, ns: 14)\n",
      "Category:Exercise physiologists: Category:Exercise physiologists (id: ??, ns: 14)\n",
      "Category:Internet memes: Category:Internet memes (id: ??, ns: 14)\n",
      "Category:Living people: Category:Living people (id: ??, ns: 14)\n",
      "Category:Male actors from Massachusetts: Category:Male actors from Massachusetts (id: ??, ns: 14)\n",
      "Category:Male actors from Tampa, Florida: Category:Male actors from Tampa, Florida (id: ??, ns: 14)\n",
      "Category:Musicians from Tampa, Florida: Category:Musicians from Tampa, Florida (id: ??, ns: 14)\n",
      "Category:NWA/WCW/WWE United States Heavyweight Champions: Category:NWA/WCW/WWE United States Heavyweight Champions (id: ??, ns: 14)\n",
      "Category:OVW Heavyweight Champions: Category:OVW Heavyweight Champions (id: ??, ns: 14)\n",
      "Category:Pages using embedded infobox templates with the title parameter: Category:Pages using embedded infobox templates with the title parameter (id: ??, ns: 14)\n",
      "Category:Pages using infobox musical artist with associated acts: Category:Pages using infobox musical artist with associated acts (id: ??, ns: 14)\n",
      "Category:Pages using infobox person with multiple spouses: Category:Pages using infobox person with multiple spouses (id: ??, ns: 14)\n",
      "Category:People from Land o' Lakes, Florida: Category:People from Land o' Lakes, Florida (id: ??, ns: 14)\n",
      "Category:People from West Newbury, Massachusetts: Category:People from West Newbury, Massachusetts (id: ??, ns: 14)\n",
      "Category:Players of American football from Massachusetts: Category:Players of American football from Massachusetts (id: ??, ns: 14)\n",
      "Category:Pop rappers: Category:Pop rappers (id: ??, ns: 14)\n",
      "Category:Professional wrestlers from Florida: Category:Professional wrestlers from Florida (id: ??, ns: 14)\n",
      "Category:Professional wrestlers from Massachusetts: Category:Professional wrestlers from Massachusetts (id: ??, ns: 14)\n",
      "Category:Rappers from Florida: Category:Rappers from Florida (id: ??, ns: 14)\n",
      "Category:Rappers from Massachusetts: Category:Rappers from Massachusetts (id: ??, ns: 14)\n",
      "Category:Short description matches Wikidata: Category:Short description matches Wikidata (id: ??, ns: 14)\n",
      "Category:Spokespersons: Category:Spokespersons (id: ??, ns: 14)\n",
      "Category:Sportspeople from Essex County, Massachusetts: Category:Sportspeople from Essex County, Massachusetts (id: ??, ns: 14)\n",
      "Category:Sportspeople from Tampa, Florida: Category:Sportspeople from Tampa, Florida (id: ??, ns: 14)\n",
      "Category:Springfield College (Massachusetts) alumni: Category:Springfield College (Massachusetts) alumni (id: ??, ns: 14)\n",
      "Category:Springfield Pride football players: Category:Springfield Pride football players (id: ??, ns: 14)\n",
      "Category:Television personalities from Florida: Category:Television personalities from Florida (id: ??, ns: 14)\n",
      "Category:Television producers from Florida: Category:Television producers from Florida (id: ??, ns: 14)\n",
      "Category:Television producers from Massachusetts: Category:Television producers from Massachusetts (id: ??, ns: 14)\n",
      "Category:Use American English from October 2019: Category:Use American English from October 2019 (id: ??, ns: 14)\n",
      "Category:Use mdy dates from February 2022: Category:Use mdy dates from February 2022 (id: ??, ns: 14)\n",
      "Category:WWE Champions: Category:WWE Champions (id: ??, ns: 14)\n",
      "Category:Wikipedia articles needing clarification from May 2020: Category:Wikipedia articles needing clarification from May 2020 (id: ??, ns: 14)\n",
      "Category:Wikipedia indefinitely move-protected pages: Category:Wikipedia indefinitely move-protected pages (id: ??, ns: 14)\n",
      "Category:Wikipedia indefinitely semi-protected biographies of living people: Category:Wikipedia indefinitely semi-protected biographies of living people (id: ??, ns: 14)\n",
      "Category:World Heavyweight Champions (WWE): Category:World Heavyweight Champions (WWE) (id: ??, ns: 14)\n",
      "Category:Wrestling Observer Newsletter award winners: Category:Wrestling Observer Newsletter award winners (id: ??, ns: 14)\n"
     ]
    }
   ],
   "source": [
    "for title in page_john.categories.keys():\n",
    "    print(\"%s: %s\" % (title, page_john.categories[title]))"
   ]
  },
  {
   "cell_type": "code",
   "execution_count": 17,
   "metadata": {},
   "outputs": [
    {
     "name": "stdout",
     "output_type": "stream",
     "text": [
      "*: Early life - John Felix Anthony Cena was born in West Newbury, Massachusetts, on April 23, 1977, the son of Carol\n",
      "*: Professional wrestling career - \n",
      "*: Professional wrestling style and persona - \n",
      "*: Acting career - \n",
      "*: Music career - In addition to his wrestling career, Cena is a rapper. He performed his fifth WWE theme song, \"Basic\n",
      "*: Other ventures - \n",
      "*: In popular culture - His catchphrase \"You Can't See Me\" originates from his early days of wrestling in the WWE where he w\n",
      "*: Personal life - Cena resides in Land o' Lakes, Florida.He has said numerous times that he does not want to have chil\n",
      "*: Filmography - \n",
      "*: Awards and nominations - \n",
      "*: Championships and accomplishments - \n",
      "*: Notes - \n",
      "*: References - \n",
      "*: External links - \n",
      "John Cena on WWE.com \n",
      "John Cena at IMDb \n",
      "John Cena on Twitter \n",
      "John Cena's profile at Cagematch.net\n"
     ]
    }
   ],
   "source": [
    "for s in page_john.sections:\n",
    "    print(\"%s: %s - %s\" % (\"*\" * (1), s.title, s.text[0:100]))"
   ]
  },
  {
   "cell_type": "markdown",
   "metadata": {},
   "source": []
  }
 ],
 "metadata": {
  "kernelspec": {
   "display_name": "Python 3.8.10 64-bit",
   "language": "python",
   "name": "python3"
  },
  "language_info": {
   "codemirror_mode": {
    "name": "ipython",
    "version": 3
   },
   "file_extension": ".py",
   "mimetype": "text/x-python",
   "name": "python",
   "nbconvert_exporter": "python",
   "pygments_lexer": "ipython3",
   "version": "3.8.10"
  },
  "orig_nbformat": 4,
  "vscode": {
   "interpreter": {
    "hash": "916dbcbb3f70747c44a77c7bcd40155683ae19c65e1c03b4aa3499c5328201f1"
   }
  }
 },
 "nbformat": 4,
 "nbformat_minor": 2
}
