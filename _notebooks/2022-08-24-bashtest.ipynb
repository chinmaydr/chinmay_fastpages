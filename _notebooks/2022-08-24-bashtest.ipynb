{
 "cells": [
  {
   "cell_type": "markdown",
   "metadata": {},
   "source": [
    "Checking if directory exists,and seeing if the APCSP directory is there."
   ]
  },
  {
   "cell_type": "code",
   "execution_count": 5,
   "metadata": {
    "vscode": {
     "languageId": "shellscript"
    }
   },
   "outputs": [
    {
     "name": "stdout",
     "output_type": "stream",
     "text": [
      "Using conditional statement to create a project directory and project\n",
      "Directory /home/chinmay/fastpages exists.\n",
      "Directory /home/chinmay/fastpages/chinmay_fastpages exists.\n"
     ]
    }
   ],
   "source": [
    "echo \"Using conditional statement to create a project directory and project\"\n",
    "\n",
    "# Variable section\n",
    "export project_dir=$HOME/fastpages  # change vscode to different name to test git clone\n",
    "export project=$project_dir/chinmay_fastpages  # change APCSP to name of project from git clone\n",
    "export project_repo=\"https://github.com/chinmaydr/chinmay_fastpages\"  # change to project of choice\n",
    "\n",
    "cd ~    # start in home directory\n",
    "\n",
    "# Conditional block to make a project directory\n",
    "if [ ! -d $project_dir ]\n",
    "then \n",
    "    echo \"Directory $project_dir does not exists... makinng directory $project_dir\"\n",
    "    mkdir -p $project_dir\n",
    "fi\n",
    "echo \"Directory $project_dir exists.\" \n",
    "\n",
    "# Conditional block to git clone a project from project_repo\n",
    "if [ ! -d $project ]\n",
    "then\n",
    "    echo \"Directory $project does not exists... cloning $project_repo\"\n",
    "    cd $project_dir\n",
    "    git clone $project_repo\n",
    "    cd ~\n",
    "fi\n",
    "echo \"Directory $project exists.\""
   ]
  },
  {
   "cell_type": "markdown",
   "metadata": {},
   "source": [
    "Listing all files in my directory"
   ]
  },
  {
   "cell_type": "code",
   "execution_count": 6,
   "metadata": {
    "vscode": {
     "languageId": "shellscript"
    }
   },
   "outputs": [
    {
     "name": "stdout",
     "output_type": "stream",
     "text": [
      "Navigate to project, then navigate to area wwhere files were cloned\n",
      "/home/chinmay/fastpages/chinmay_fastpages\n",
      "\n",
      "list top level or root of files with project pulled from github\n",
      "\u001b[0m\u001b[01;35m2022-05-15-07-21-16.png\u001b[0m  \u001b[01;32mREADME.md\u001b[0m        \u001b[01;34m_notebooks\u001b[0m  \u001b[01;34massets\u001b[0m\n",
      "\u001b[01;35m2022-05-15-07-24-25.png\u001b[0m  \u001b[01;34m_action_files\u001b[0m    \u001b[01;34m_pages\u001b[0m      \u001b[01;32mdocker-compose.yml\u001b[0m\n",
      "\u001b[01;35m2022-05-15-07-25-15.png\u001b[0m  _config.yml      \u001b[01;34m_plugins\u001b[0m    \u001b[01;34mimages\u001b[0m\n",
      "\u001b[01;32mGemfile\u001b[0m                  \u001b[01;34m_fastpages_docs\u001b[0m  \u001b[01;34m_posts\u001b[0m      index.html\n",
      "LICENSE                  \u001b[01;34m_includes\u001b[0m        \u001b[01;34m_sass\u001b[0m\n",
      "\u001b[01;32mMakefile\u001b[0m                 \u001b[01;34m_layouts\u001b[0m         \u001b[01;34m_word\u001b[0m\n",
      "\n",
      "list again with hidden files pulled from github\n",
      "\u001b[0m\u001b[01;34m.\u001b[0m                        \u001b[01;32mGemfile\u001b[0m          \u001b[01;34m_pages\u001b[0m\n",
      "\u001b[01;34m..\u001b[0m                       LICENSE          \u001b[01;34m_plugins\u001b[0m\n",
      ".devcontainer.json       \u001b[01;32mMakefile\u001b[0m         \u001b[01;34m_posts\u001b[0m\n",
      "\u001b[01;34m.git\u001b[0m                     \u001b[01;32mREADME.md\u001b[0m        \u001b[01;34m_sass\u001b[0m\n",
      ".gitattributes           \u001b[01;34m_action_files\u001b[0m    \u001b[01;34m_word\u001b[0m\n",
      "\u001b[01;34m.github\u001b[0m                  _config.yml      \u001b[01;34massets\u001b[0m\n",
      ".gitignore               \u001b[01;34m_fastpages_docs\u001b[0m  \u001b[01;32mdocker-compose.yml\u001b[0m\n",
      "\u001b[01;35m2022-05-15-07-21-16.png\u001b[0m  \u001b[01;34m_includes\u001b[0m        \u001b[01;34mimages\u001b[0m\n",
      "\u001b[01;35m2022-05-15-07-24-25.png\u001b[0m  \u001b[01;34m_layouts\u001b[0m         index.html\n",
      "\u001b[01;35m2022-05-15-07-25-15.png\u001b[0m  \u001b[01;34m_notebooks\u001b[0m\n",
      "\n",
      "list all files in long format\n",
      "total 409\n",
      "drwxr-xr-x 1 chinmay chinmay    512 Aug 24 14:17 \u001b[0m\u001b[01;34m.\u001b[0m\n",
      "drwxr-xr-x 1 chinmay chinmay    512 Aug 22 14:29 \u001b[01;34m..\u001b[0m\n",
      "-rw-r--r-- 1 chinmay chinmay    420 Aug 22 14:29 .devcontainer.json\n",
      "drwxr-xr-x 1 chinmay chinmay    512 Aug 24 14:38 \u001b[01;34m.git\u001b[0m\n",
      "-rw-r--r-- 1 chinmay chinmay     84 Aug 22 14:29 .gitattributes\n",
      "drwxr-xr-x 1 chinmay chinmay    512 Aug 22 14:29 \u001b[01;34m.github\u001b[0m\n",
      "-rw-r--r-- 1 chinmay chinmay    161 Aug 22 14:29 .gitignore\n",
      "-rw-r--r-- 1 chinmay chinmay 207007 Aug 22 14:29 \u001b[01;35m2022-05-15-07-21-16.png\u001b[0m\n",
      "-rw-r--r-- 1 chinmay chinmay  90979 Aug 22 14:29 \u001b[01;35m2022-05-15-07-24-25.png\u001b[0m\n",
      "-rw-r--r-- 1 chinmay chinmay  81691 Aug 22 14:29 \u001b[01;35m2022-05-15-07-25-15.png\u001b[0m\n",
      "-rwxr-xr-x 1 chinmay chinmay   1304 Aug 22 14:29 \u001b[01;32mGemfile\u001b[0m\n",
      "-rw-r--r-- 1 chinmay chinmay  11351 Aug 22 14:29 LICENSE\n",
      "-rwxr-xr-x 1 chinmay chinmay   1422 Aug 22 14:29 \u001b[01;32mMakefile\u001b[0m\n",
      "-rwxr-xr-x 1 chinmay chinmay   3632 Aug 23 14:21 \u001b[01;32mREADME.md\u001b[0m\n",
      "drwxr-xr-x 1 chinmay chinmay    512 Aug 23 14:21 \u001b[01;34m_action_files\u001b[0m\n",
      "-rw-r--r-- 1 chinmay chinmay   3693 Aug 23 14:21 _config.yml\n",
      "drwxr-xr-x 1 chinmay chinmay    512 Aug 23 14:21 \u001b[01;34m_fastpages_docs\u001b[0m\n",
      "drwxr-xr-x 1 chinmay chinmay    512 Aug 22 14:29 \u001b[01;34m_includes\u001b[0m\n",
      "drwxr-xr-x 1 chinmay chinmay    512 Aug 22 14:29 \u001b[01;34m_layouts\u001b[0m\n",
      "drwxr-xr-x 1 chinmay chinmay    512 Aug 28 14:40 \u001b[01;34m_notebooks\u001b[0m\n",
      "drwxr-xr-x 1 chinmay chinmay    512 Aug 22 14:29 \u001b[01;34m_pages\u001b[0m\n",
      "drwxr-xr-x 1 chinmay chinmay    512 Aug 22 14:29 \u001b[01;34m_plugins\u001b[0m\n",
      "drwxr-xr-x 1 chinmay chinmay    512 Aug 24 14:26 \u001b[01;34m_posts\u001b[0m\n",
      "drwxr-xr-x 1 chinmay chinmay    512 Aug 22 14:29 \u001b[01;34m_sass\u001b[0m\n",
      "drwxr-xr-x 1 chinmay chinmay    512 Aug 23 14:21 \u001b[01;34m_word\u001b[0m\n",
      "drwxr-xr-x 1 chinmay chinmay    512 Aug 22 14:29 \u001b[01;34massets\u001b[0m\n",
      "-rwxr-xr-x 1 chinmay chinmay   1136 Aug 22 14:29 \u001b[01;32mdocker-compose.yml\u001b[0m\n",
      "drwxr-xr-x 1 chinmay chinmay    512 Aug 23 14:21 \u001b[01;34mimages\u001b[0m\n",
      "-rw-r--r-- 1 chinmay chinmay    526 Aug 24 14:17 index.html\n"
     ]
    }
   ],
   "source": [
    "echo \"Navigate to project, then navigate to area wwhere files were cloned\"\n",
    "cd $project\n",
    "pwd\n",
    "\n",
    "echo \"\"\n",
    "echo \"list top level or root of files with project pulled from github\"\n",
    "ls\n",
    "\n",
    "echo \"\"\n",
    "echo \"list again with hidden files pulled from github\"\n",
    "ls -a   # hidden files flag, many shell commands have flags\n",
    "\n",
    "echo \"\"\n",
    "echo \"list all files in long format\"\n",
    "ls -al   # all files and long listing\n"
   ]
  },
  {
   "cell_type": "markdown",
   "metadata": {},
   "source": [
    "Looking for/ listing my markdown files"
   ]
  },
  {
   "cell_type": "code",
   "execution_count": 7,
   "metadata": {
    "vscode": {
     "languageId": "shellscript"
    }
   },
   "outputs": [
    {
     "name": "stdout",
     "output_type": "stream",
     "text": [
      "Look for posts\n",
      "/home/chinmay/fastpages/chinmay_fastpages/_posts\n",
      "total 8\n",
      "-rwxr-xr-x 1 chinmay chinmay 1966 Aug 22 14:29 \u001b[0m\u001b[01;32m2020-01-14-test-markdown-post.md\u001b[0m\n",
      "-rw-r--r-- 1 chinmay chinmay   64 Aug 23 14:16 2022-08-24-firstpost.md\n",
      "-rw-r--r-- 1 chinmay chinmay  720 Aug 22 14:29 README.md\n"
     ]
    }
   ],
   "source": [
    "echo \"Look for posts\"\n",
    "export posts=$project/_posts  # _posts inside project\n",
    "cd $posts  # this should exist per fastpages\n",
    "pwd  # present working directory\n",
    "ls -l  # list posts"
   ]
  },
  {
   "cell_type": "markdown",
   "metadata": {},
   "source": [
    "Looking for/ listing my notebooks"
   ]
  },
  {
   "cell_type": "code",
   "execution_count": 8,
   "metadata": {
    "vscode": {
     "languageId": "shellscript"
    }
   },
   "outputs": [
    {
     "name": "stdout",
     "output_type": "stream",
     "text": [
      "Look for notebooks\n",
      "/home/chinmay/fastpages/chinmay_fastpages/_notebooks\n",
      "total 4060\n",
      "-rw-r--r-- 1 chinmay chinmay 3162384 Aug 22 14:29 2020-02-20-test.ipynb\n",
      "-rw-r--r-- 1 chinmay chinmay    1179 Aug 24 14:35 2022-08-23-chinmaynb.ipynb\n",
      "-rw------- 1 chinmay chinmay  578413 Aug 28 14:40 2022-08-24-bashtest.html\n",
      "-rw-r--r-- 1 chinmay chinmay       0 Aug 24 13:53 2022-08-24-bashtest.ipynb\n",
      "-rw-r--r-- 1 chinmay chinmay     771 Aug 22 14:29 README.md\n",
      "drwxr-xr-x 1 chinmay chinmay     512 Aug 22 14:29 \u001b[0m\u001b[01;34mghtop_images\u001b[0m\n",
      "drwxr-xr-x 1 chinmay chinmay     512 Aug 22 14:29 \u001b[01;34mmy_icons\u001b[0m\n",
      "-rw-r--r-- 1 chinmay chinmay      42 Aug 23 15:01 script.py\n"
     ]
    }
   ],
   "source": [
    "echo \"Look for notebooks\"\n",
    "export notebooks=$project/_notebooks  # _notebooks is inside project\n",
    "cd $notebooks   # this should exist per fastpages\n",
    "pwd  # present working directory\n",
    "ls -l  # list notebooks"
   ]
  },
  {
   "cell_type": "markdown",
   "metadata": {},
   "source": [
    "Looking for/listing images"
   ]
  },
  {
   "cell_type": "code",
   "execution_count": 9,
   "metadata": {
    "vscode": {
     "languageId": "shellscript"
    }
   },
   "outputs": [
    {
     "name": "stdout",
     "output_type": "stream",
     "text": [
      "Look for images in notebooks, print working directory, list files\n",
      "bash: cd: /home/chinmay/fastpages/chinmay_fastpages/_notebooks/images: No such file or directory\n",
      "/home/chinmay/fastpages/chinmay_fastpages/_notebooks\n",
      "total 4060\n",
      "-rw-r--r-- 1 chinmay chinmay 3162384 Aug 22 14:29 2020-02-20-test.ipynb\n",
      "-rw-r--r-- 1 chinmay chinmay    1179 Aug 24 14:35 2022-08-23-chinmaynb.ipynb\n",
      "-rw------- 1 chinmay chinmay  578413 Aug 28 14:40 2022-08-24-bashtest.html\n",
      "-rw-r--r-- 1 chinmay chinmay       0 Aug 24 13:53 2022-08-24-bashtest.ipynb\n",
      "-rw-r--r-- 1 chinmay chinmay     771 Aug 22 14:29 README.md\n",
      "drwxr-xr-x 1 chinmay chinmay     512 Aug 22 14:29 \u001b[0m\u001b[01;34mghtop_images\u001b[0m\n",
      "drwxr-xr-x 1 chinmay chinmay     512 Aug 22 14:29 \u001b[01;34mmy_icons\u001b[0m\n",
      "-rw-r--r-- 1 chinmay chinmay      42 Aug 23 15:01 script.py\n"
     ]
    }
   ],
   "source": [
    "echo \"Look for images in notebooks, print working directory, list files\"\n",
    "cd $notebooks/images  # this should exist per fastpages\n",
    "pwd\n",
    "ls -l"
   ]
  },
  {
   "cell_type": "markdown",
   "metadata": {},
   "source": [
    "Printing data in my first markdown"
   ]
  },
  {
   "cell_type": "code",
   "execution_count": 12,
   "metadata": {
    "vscode": {
     "languageId": "shellscript"
    }
   },
   "outputs": [
    {
     "name": "stdout",
     "output_type": "stream",
     "text": [
      "Navigate to project, then navigate to area wwhere files were cloned\n",
      "show the contents of 2022-08-24-firstpost.md\n",
      "\n",
      "# Hello!\n",
      "#### See, I can do this stuff\n",
      "###### Can you read this?\n",
      "end of 2022-08-24-firstpost.md\n"
     ]
    }
   ],
   "source": [
    "echo \"Navigate to project, then navigate to area wwhere files were cloned\"\n",
    "\n",
    "cd $project/_posts\n",
    "echo \"show the contents of 2022-08-24-firstpost.md\"\n",
    "echo \"\"\n",
    "\n",
    "cat 2022-08-24-firstpost.md  # show contents of file, in this case markdown\n",
    "echo \"\"\n",
    "echo \"end of 2022-08-24-firstpost.md\""
   ]
  }
 ],
 "metadata": {
  "kernelspec": {
   "display_name": "Bash",
   "language": "bash",
   "name": "bash"
  },
  "language_info": {
   "codemirror_mode": "shell",
   "file_extension": ".sh",
   "mimetype": "text/x-sh",
   "name": "bash"
  },
  "orig_nbformat": 4
 },
 "nbformat": 4,
 "nbformat_minor": 2
}
