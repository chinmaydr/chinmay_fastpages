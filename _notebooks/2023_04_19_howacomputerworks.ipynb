{
  "cells": [
    {
      "attachments": {},
      "cell_type": "markdown",
      "metadata": {
        "id": "cfum4qwszQQT"
      },
      "source": [
        "# Big Idea 4 Review: Computers and the Internet\n",
        "- toc: true\n",
        "- categories: []\n",
        "- type: pbl\n",
        "- week: 32\n",
        "- permalink: /computers"
      ]
    },
    {
      "attachments": {},
      "cell_type": "markdown",
      "metadata": {
        "id": "czp1qGXTzQQZ"
      },
      "source": [
        "### List specification of your Computer, or Computers if working as Pair/Trio\n",
        "- Processor GHz: Intel(R) Core(TM) i7-8550U CPU @ 1.80GHz, 1992 Mhz, 4 Core(s), 8 Logical Processor(s)\n",
        "- Memory in GB: 16.0 GB\n",
        "- Storage in GB: 462.82 GB (496,946,376,704 bytes)\n",
        "- OS: Windows 10 Home."
      ]
    },
    {
      "attachments": {},
      "cell_type": "markdown",
      "metadata": {
        "id": "0OO1wfqyzQQZ"
      },
      "source": [
        "### Define or describe usage of Computer using Computer Programs. Pictures are preferred over a lot of text. Use your experience.\n",
        "- Input devices: Devices that let users enter data or commands into a computer, such as a keyboard, mouse, or microphone.\n",
        "- Output devices: Devices that display or output information from a computer, such as a monitor, printer, or speakers.\n",
        "- Program file: A file that contains the code and data needed to run a computer program.\n",
        "- Program code: The written instructions in a programming language that tell a computer what to do, such as adding numbers or displaying a message.\n",
        "- Processes: Programs or sets of instructions that are currently running on a computer's CPU, allowing the computer to perform tasks such as running software or managing system resources.\n",
        "- Ports: Physical connections on a computer that allow data to be transferred to or from other devices, such as USB ports or Ethernet ports.\n",
        "- Data file: A file that contains information or data that can be read or processed by a computer program.\n",
        "- Inspect running code: The act of examining the code of a program that is currently running on a computer in order to find and fix any errors or issues.\n",
        "- Inspect variables: The act of examining the values of variables used in a computer program during runtime in order to debug or troubleshoot any problems."
      ]
    },
    {
      "attachments": {},
      "cell_type": "markdown",
      "metadata": {
        "id": "VLasXtL8zQQa"
      },
      "source": [
        "![image](https://user-images.githubusercontent.com/68085673/236368513-50ab00bc-fd0b-4169-b914-c6b69eee75be.png)\n",
        "![image](https://user-images.githubusercontent.com/68085673/236368582-fab47024-cb0c-41de-af0f-d747325d0a79.png)\n",
        "![image](https://user-images.githubusercontent.com/68085673/236368614-61a9b265-79a5-49dd-b01c-66eae84c905a.png)\n",
        "Credits: University of Illinois Chicago\n"
      ]
    },
    {
      "attachments": {},
      "cell_type": "markdown",
      "metadata": {},
      "source": [
        "- Path: The route or sequence of devices, connections, and networks that data takes as it travels from one device or network to another.\n",
        "- Route: The path that data takes as it travels from one device or network to another, often determined by network protocols and routing tables.\n",
        "- Computer System: The combination of hardware components and software programs that work together to perform specific tasks on a computer.\n",
        "- Computer Device: A physical device that can connect to a computer or network, such as a keyboard, mouse, printer, or router.\n",
        "- Bandwidth: The maximum amount of data that can be transmitted over a network or connection in a given amount of time.\n",
        "- Computer Network: A group of interconnected computers and devices that can communicate with each other and share resources, often using network protocols and technologies.\n",
        "\n",
        "## T/F\n",
        "true, false, false, true, false, false, true"
      ]
    },
    {
      "attachments": {},
      "cell_type": "markdown",
      "metadata": {},
      "source": [
        "1. The Internet:\n",
        "- The internet is a global network of interconnected computer networks.\n",
        "- The World Wide Web (WWW) is a collection of documents and other resources, linked by hyperlinks and URLs, that can be accessed through the internet.\n",
        "- The internet is built on a client-server architecture, where client devices such as computers, phones, or tablets, request information from server devices, such as web servers or database servers.\n",
        "- HTTP (Hypertext Transfer Protocol) is the protocol used for transferring data over the internet. HTTPS (HTTP Secure) is a more secure version of HTTP that uses encryption to protect data in transit.\n",
        "- DNS (Domain Name System) is the system that translates human-readable domain names, such as google.com, into IP addresses, which are the numerical addresses used by computers to locate servers on the internet.\n",
        "\n",
        "1. Fault Tolerance:\n",
        "- Fault tolerance is the ability of a system to continue functioning in the presence of faults or errors, without failing completely.\n",
        "- Redundancy is one way to achieve fault tolerance. This can involve replicating data or hardware components so that there are backup copies available in case of failure.\n",
        "- Error detection and correction codes can also be used to ensure data integrity and prevent errors from propagating through a system.\n",
        "- RAID (Redundant Array of Independent Disks) is a technology used to combine multiple physical hard drives into a single logical unit, which can provide improved performance, fault tolerance, or both.\n",
        "\n",
        "1. Parallel and Distributed Computing:\n",
        "- Parallel computing involves dividing a large task into smaller subtasks, which can be executed simultaneously on different processors or cores, to speed up overall execution time.\n",
        "- Distributed computing involves coordinating the processing of a large task across multiple computers or devices, which can be geographically dispersed.\n",
        "- Cloud computing is a type of distributed computing that involves accessing remote computing resources over the internet, such as virtual machines, storage, or software services.\n",
        "- MapReduce is a programming model used for distributed computing, which involves breaking down a large dataset into smaller subsets that can be processed in parallel across multiple nodes or computers.\n",
        "- Ray is a library for parallel and distributed computing in Python, which provides a simple API for running Python functions in parallel across multiple cores or nodes."
      ]
    },
    {
      "attachments": {},
      "cell_type": "markdown",
      "metadata": {
        "id": "eIlbcobnzQQb"
      },
      "source": [
        "# Parallel and Distributed Computing\n",
        "\n",
        "- *What is naturally Distributed in Frontend/Backend archeticture?* \n",
        "  - In a frontend/backend architecture, the frontend is naturally distributed, as it involves serving content to multiple clients over the network. The backend, on the other hand, typically runs on a single server or cluster of servers and is responsible for processing requests and generating responses\n",
        "- *Analyze this command in Docker: ENV GUNICORN_CMD_ARGS=\"--workers=1 --bind=0.0.0.0:8086\". Determine if there is options are options in this command for parallel computing within the server that runs python/gunicorn.* \n",
        "  - there is an option for parallel computing within the server that runs Python/Gunicorn. Specifically, the --workers=1 option sets the number of worker processes that Gunicorn will use to handle incoming requests to 1. This means that Gunicorn will only use a single worker process to handle all incoming requests, which will limit parallel computing within the server. If the value of --workers were set to a number greater than 1, Gunicorn would create multiple worker processes to handle requests, allowing for parallel processing of incoming requests."
      ]
    },
    {
      "cell_type": "code",
      "execution_count": 2,
      "metadata": {
        "id": "OmSsmmBPzQQc",
        "outputId": "819f86e8-5bd8-48fb-cded-a9d586fe0529"
      },
      "outputs": [
        {
          "name": "stderr",
          "output_type": "stream",
          "text": [
            "2023-05-04 20:07:23,496\tINFO worker.py:1625 -- Started a local Ray instance.\n"
          ]
        },
        {
          "name": "stdout",
          "output_type": "stream",
          "text": [
            "[1, 4, 9, 16, 25]\n"
          ]
        }
      ],
      "source": [
        "# Fixing the Ray parallel programming code #\n",
        "\n",
        "import ray\n",
        "\n",
        "def square(x):\n",
        "    return x * x\n",
        "\n",
        "ray.init(ignore_reinit_error=True)\n",
        "\n",
        "@ray.remote\n",
        "def square_list(nums):\n",
        "    return [square(num) for num in nums]\n",
        "\n",
        "nums = [1, 2, 3, 4, 5]\n",
        "\n",
        "split_idx = len(nums) // 2\n",
        "part1, part2 = nums[:split_idx], nums[split_idx:]\n",
        "\n",
        "part1_result = square_list.remote(part1)\n",
        "part2_result = square_list.remote(part2)\n",
        "\n",
        "result = ray.get(part1_result) + ray.get(part2_result)\n",
        "\n",
        "print(result)"
      ]
    },
    {
      "cell_type": "code",
      "execution_count": 4,
      "metadata": {},
      "outputs": [
        {
          "name": "stdout",
          "output_type": "stream",
          "text": [
            "[120, 720, 5040, 40320, 362880]\n"
          ]
        }
      ],
      "source": [
        "@ray.remote\n",
        "def factorial(n):\n",
        "    result = 1\n",
        "    for i in range(1, n+1):\n",
        "        result *= i\n",
        "    return result\n",
        "\n",
        "num_list = [5, 6, 7, 8, 9]\n",
        "\n",
        "tasks = [factorial.remote(num) for num in num_list]\n",
        "\n",
        "# Get the results of the tasks as they complete\n",
        "results = ray.get(tasks)\n",
        "\n",
        "print(results)"
      ]
    },
    {
      "attachments": {},
      "cell_type": "markdown",
      "metadata": {},
      "source": [
        "![Untitled drawing](https://user-images.githubusercontent.com/68085673/236372615-5c3d269e-a6f6-41e2-a2f9-13981996fcf9.png)\n"
      ]
    }
  ],
  "metadata": {
    "colab": {
      "provenance": []
    },
    "kernelspec": {
      "display_name": "base",
      "language": "python",
      "name": "python3"
    },
    "language_info": {
      "codemirror_mode": {
        "name": "ipython",
        "version": 3
      },
      "file_extension": ".py",
      "mimetype": "text/x-python",
      "name": "python",
      "nbconvert_exporter": "python",
      "pygments_lexer": "ipython3",
      "version": "3.9.12"
    },
    "orig_nbformat": 4
  },
  "nbformat": 4,
  "nbformat_minor": 0
}
