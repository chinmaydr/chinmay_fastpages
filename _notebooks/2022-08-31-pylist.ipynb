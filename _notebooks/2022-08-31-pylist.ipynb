{
 "cells": [
  {
   "cell_type": "markdown",
   "metadata": {},
   "source": [
    "# Python Lists and Dictionaries\n",
    "> Counts number of each character in each sentence, and returns a list of unique characters\n",
    "\n",
    "- toc: true \n",
    "- badges: true\n",
    "- comments: true\n",
    "- categories: [hacks]\n",
    "- tags: [Week 2]\n",
    "- image: images/listpng.png"
   ]
  },
  {
   "cell_type": "code",
   "execution_count": 1,
   "metadata": {},
   "outputs": [
    {
     "name": "stdout",
     "output_type": "stream",
     "text": [
      "f  :  11\n",
      "d  :  11\n",
      "j  :  6\n",
      "   :  4\n",
      "s  :  7\n",
      "h  :  9\n",
      "k  :  2\n",
      "1  :  1\n",
      "2  :  1\n",
      "%  :  2\n",
      "^  :  2\n",
      "&  :  4\n",
      "b  :  1\n",
      "u  :  5\n",
      "8  :  9\n",
      "7  :  10\n",
      "w  :  2\n",
      "e  :  5\n",
      "*  :  4\n",
      "c  :  1\n",
      "9  :  6\n",
      "(  :  1\n",
      "-  :  2\n",
      "=  :  2\n",
      "n  :  7\n",
      "i  :  2\n",
      "t  :  2\n",
      "3  :  2\n",
      "5  :  1\n",
      "v  :  1\n",
      "r  :  3\n",
      "!  :  3\n",
      "@  :  1\n",
      "y  :  2\n",
      "R  :  1\n",
      "Y  :  1\n",
      "H  :  1\n",
      "C  :  1\n",
      "]  :  1\n",
      "o  :  1\n",
      "[' ', '!', '%', '&', '(', '*', '-', '1', '2', '3', '5', '7', '8', '9', '=', '@', 'C', 'H', 'R', 'Y', ']', '^', 'b', 'c', 'd', 'e', 'f', 'h', 'i', 'j', 'k', 'n', 'o', 'r', 's', 't', 'u', 'v', 'w', 'y']\n"
     ]
    }
   ],
   "source": [
    "sentence = \"\"\n",
    "counter = {}#Creates a dictionary to store characters and the number of times they show up\n",
    "distinct = []#Creates list to store distinct characters\n",
    "while sentence != \"done!\":#repeats code till user inputs done\n",
    "    sentence = input(\"Enter a Sentence\")#asks for user input\n",
    "    for i in sentence:\n",
    "        if i not in counter:\n",
    "            counter[i] = 0#for every new letter, create a new entry in the dictionary and add it to the distinct list\n",
    "            distinct.append(i)\n",
    "        counter[i] += 1#add to entry of dictionary\n",
    "for i in counter:\n",
    "    print(i,\" : \",counter[i])#prints each entry of dictionary\n",
    "print(sorted(distinct))#sorts distinct characters in alphabetical order and prints sorted list"
   ]
  }
 ],
 "metadata": {
  "kernelspec": {
   "display_name": "Python 3.9.12 ('base': conda)",
   "language": "python",
   "name": "python3"
  },
  "language_info": {
   "codemirror_mode": {
    "name": "ipython",
    "version": 3
   },
   "file_extension": ".py",
   "mimetype": "text/x-python",
   "name": "python",
   "nbconvert_exporter": "python",
   "pygments_lexer": "ipython3",
   "version": "3.9.12"
  },
  "orig_nbformat": 4,
  "vscode": {
   "interpreter": {
    "hash": "d9767bb80f0c926f2be51240ea78c27eb3c7b52dd704c89ce42f210d283b4c5b"
   }
  }
 },
 "nbformat": 4,
 "nbformat_minor": 2
}
