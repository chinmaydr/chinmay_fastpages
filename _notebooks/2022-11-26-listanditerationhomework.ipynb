{
 "cells": [
  {
   "cell_type": "markdown",
   "metadata": {},
   "source": [
    "# Lists and Iteration Homework and Challenges\n",
    "> Try to complete this to show understanding! Copy this into your notebook so you can also take notes as we lecture. Make a copy of this notebook to your own repository to take notes, do the class challenges, and to access the homework.\n",
    "- title: Lists and Iteration Homework\n",
    "- toc: true\n",
    "- permalink: /homework/"
   ]
  },
  {
   "cell_type": "markdown",
   "metadata": {},
   "source": [
    "## Overview and Notes:  3.10 - Lists\n",
    "- Make sure you complete the challenge in the challenges section while we present the lesson! \n",
    "\n",
    "Add your <mark>OWN</mark> Notes for 3.10 here: \n",
    "- A list is a container to store many datatypes, such as strings, integersa, and booleans\n",
    "- A list is defined with square brackets and is useful, rather than keeping a lot of variables\n",
    "- There are many functions that you cna use on lists, such as append, insert, and remove\n",
    "- lists are acessed by index.\n",
    "  - the first index is 0, second is one, and so on\n",
    "  - negative indexes acess elements from the back.\n",
    "  \n",
    "Fill out the empty boxes: \n",
    "|   Pseudocode Operation  | Python Syntax |                                                           Description                                                          |\n",
    "|:-----------------------:|:---------------:|:------------------------------------------------------------------------------------------------------------------------------:|\n",
    "|         aList[i]        |       aList[i]        | _Accesses the element of aList at index i_                                                                                     |\n",
    "|       x ← aList[i]      |       x = aList[i]        | _Assigns the element of aList at index i <br>to a variable 'x'_                                                                |\n",
    "|        aList[i] ← x     |      aList[i] = x         | _Assigns the value of a variable 'x' to <br>the element of a List at index i_                                                  |\n",
    "|   aList[i] ← aList[j]   |       aList[i] = aList[j]        | _Assigns value of aList[j] to aList[i]_                                                                                        |\n",
    "| INSERT(aList, i, value) |       aList.insert(i, value)        | _value is placed at index i in aList. Any <br>element at an index greater than i will shift<br>one position to the right. _    |\n",
    "|   APPEND(aList, value)  |      aList.append(value)         | Replaces the element at index i with value                                    |\n",
    "|     REMOVE(aList, i)    |      aList.pop(i)<br>OR<br>aList.remove(value)         | _Removes item at index i and any values at <br>indices greater than i shift to the left. <br>Length of aList decreased by 1. _ |\n"
   ]
  },
  {
   "cell_type": "markdown",
   "metadata": {},
   "source": [
    "## Overview and Notes:  3.8 - Iteration\n",
    "\n",
    "Add your <mark>OWN</mark> Notes for 3.8 here: \n",
    "- To acess eleemnts of a list in order, one can use iteration\n",
    "- With a for or while loop, you can acess the elements in an array or the indexes of an array in order\n",
    "- This makes printing data and data manipulation easier\n",
    "- saying \"for i in list:\" iterates through every element in list\n",
    "- \"for i in range(len(list))\" iterates through every index in list\n",
    "\n",
    "\n"
   ]
  },
  {
   "cell_type": "markdown",
   "metadata": {},
   "source": [
    "## Homework Assignment\n",
    "\n",
    "Instead of us making a quiz for you to take, we would like YOU to make a quiz about the material we reviewed.\n",
    "\n",
    "We would like you to <mark>input questions into a list</mark>, and use some sort of iterative system to print the questions, detect an input, and determine if you answered correctly. There should be *at least* <mark>five questions</mark>, each with *at least* <mark>three possible answers</mark>.\n",
    "\n",
    "You may use the template below as a framework for this assignment."
   ]
  },
  {
   "cell_type": "code",
   "execution_count": 6,
   "metadata": {},
   "outputs": [
    {
     "name": "stdout",
     "output_type": "stream",
     "text": [
      "wrong\n",
      "wrong\n",
      "wrong\n",
      "correct\n",
      "wrong\n",
      "correct\n",
      "Your score is 2/6. Good Job!\n"
     ]
    }
   ],
   "source": [
    "import random\n",
    "questions = [(0,\"How are elements from arrays acessed?\"),(1,\"Which data types can be stored in arrays\"),(2,\"What does the function .append() do?\"),(3,\"What does negative indexing do?\"), (4,\"what number does indexing start at?\"),\n",
    "(5,\"what kind of loop is most used in iteration?\")]\n",
    "options = [\"A. [] \\n B. () \\n C. {} \\n D. you cannot acess individual elements\",\n",
    "            \"A. int \\n B. String \\n C. boolean \\n D. all of the above\",\n",
    "            \"A. remove an element \\n B. add an element to the end \\n C. add an element to the start \\n D. append does not work with a list\",\n",
    "            \"A. the same thing as regular indexing \\n B. gives elements from a sorted list \\n C. index from the back \\n D. give a syntax error\",\n",
    "            \"A. 0 \\n B. 1 \\n C. 2 \\n D. -1\",\n",
    "            \"A. while \\n B. for \\n C. if \\n D. recursive\"]\n",
    "answers = [\"A\",\"D\",\"B\",\"C\",\"A\",\"B\"]\n",
    "def questionloop():\n",
    "    score = 0\n",
    "    random.shuffle(questions)\n",
    "    for i in questions:\n",
    "        answer = input(i[1]+ \" \" + options[i[0]])\n",
    "        if answercheck(answer, i[0]) == True:\n",
    "            print(\"correct\")\n",
    "            score += 1\n",
    "        else:\n",
    "            print(\"wrong\")\n",
    "    return score\n",
    "    #make an iterative function to ask the questions\n",
    "    #this can be any loop you want as long as it works!\n",
    "\n",
    "def answercheck(answer, index):\n",
    "    if answer == answers[index]:\n",
    "        return True\n",
    "    return False\n",
    "    #make a function to check if the answer was correct or not\n",
    "print(\"Your score is \" + str(questionloop()) + \"/6. Good Job!\")"
   ]
  },
  {
   "cell_type": "markdown",
   "metadata": {},
   "source": [
    "### Hacks\n",
    "\n",
    "Here are some ideas of things you can do to make your program even cooler. Doing these will raise your grade if done correctly.\n",
    "\n",
    "- Add more than five questions with more than three answer choices\n",
    "- Randomize the order in which questions/answers are output\n",
    "- At the end, display the user's score and determine whether or not they passed\n",
    "\n",
    "## Challenges\n",
    "\n",
    "<mark>Important!</mark> You don't have to complete these challenges completely perfectly, but you will be marked down if you don't show evidence of at least having tried these challenges in the time we gave during the lesson.\n",
    "\n",
    "### 3.10 Challenge\n",
    "\n",
    "Follow the instructions in the code comments."
   ]
  },
  {
   "cell_type": "code",
   "execution_count": 6,
   "metadata": {},
   "outputs": [
    {
     "name": "stdout",
     "output_type": "stream",
     "text": [
      "carrots\n",
      "carrots\n",
      "artichokes\n",
      "['apples', 'eggs', 'artichokes', 'carrots', 'cucumbers', 'umbrellas', 'artichokes']\n"
     ]
    }
   ],
   "source": [
    "grocery_list = ['apples', 'milk', 'oranges', 'carrots', 'cucumbers']\n",
    "\n",
    "# Print the fourth item in the list\n",
    "\n",
    "print(grocery_list[3])\n",
    "# Now, assign the fourth item in the list to a variable, x and then print the variable\n",
    "x = grocery_list[3]\n",
    "print(x)\n",
    "# Add these two items at the end of the list : umbrellas and artichokes\n",
    "\n",
    "grocery_list.append('umbrellas')\n",
    "grocery_list.append('artichokes')\n",
    "\n",
    "# Insert the item eggs as the third item of the list \n",
    "grocery_list.insert(2,'eggs')\n",
    "\n",
    "# Remove milk from the list \n",
    "grocery_list.remove('milk')\n",
    "\n",
    "# Assign the element at the end of the list to index 2. Print index 2 to check\n",
    "grocery_list[2] = grocery_list[-1]\n",
    "print(grocery_list[2])\n",
    "# Print the entire list, does it match ours ? \n",
    "print(grocery_list)\n",
    "\n",
    "# Expected output\n",
    "# carrots\n",
    "# carrots\n",
    "# artichokes\n",
    "# ['apples', 'eggs', 'artichokes', 'carrots', 'cucumbers', 'umbrellas', 'artichokes']"
   ]
  },
  {
   "cell_type": "code",
   "execution_count": 8,
   "metadata": {},
   "outputs": [
    {
     "name": "stdout",
     "output_type": "stream",
     "text": [
      "73\n",
      "55\n",
      "[73, 170, 150, 55, 236, 209, 129]\n"
     ]
    }
   ],
   "source": [
    "binarylist = [\n",
    "    \"01001001\", \"10101010\", \"10010110\", \"00110111\", \"11101100\", \"11010001\", \"10000001\"\n",
    "]\n",
    "\n",
    "def binary_convert(binarylist):\n",
    "    decimallist = []\n",
    "    for i in binarylist:\n",
    "        number = 0\n",
    "        power = 7\n",
    "        for j in i:\n",
    "            if j == \"1\":\n",
    "                number += 2**power\n",
    "            power -= 1\n",
    "        decimallist.append(number)\n",
    "    for i in decimallist:\n",
    "        if i <= 100:\n",
    "            print(i)\n",
    "    print(decimallist)\n",
    "    #use this function to convert every binary value in binarylist to decimal\n",
    "    #afterward, get rid of the values that are greater than 100 in decimal\n",
    "\n",
    "#when done, print the results\n",
    "binary_convert(binarylist)"
   ]
  }
 ],
 "metadata": {
  "kernelspec": {
   "display_name": "Python 3.8.10 64-bit",
   "language": "python",
   "name": "python3"
  },
  "language_info": {
   "codemirror_mode": {
    "name": "ipython",
    "version": 3
   },
   "file_extension": ".py",
   "mimetype": "text/x-python",
   "name": "python",
   "nbconvert_exporter": "python",
   "pygments_lexer": "ipython3",
   "version": "3.8.10"
  },
  "orig_nbformat": 4,
  "vscode": {
   "interpreter": {
    "hash": "916dbcbb3f70747c44a77c7bcd40155683ae19c65e1c03b4aa3499c5328201f1"
   }
  }
 },
 "nbformat": 4,
 "nbformat_minor": 2
}
