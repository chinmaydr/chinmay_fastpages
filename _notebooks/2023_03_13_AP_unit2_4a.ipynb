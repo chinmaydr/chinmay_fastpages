{
  "cells": [
    {
      "cell_type": "markdown",
      "metadata": {
        "id": "3tuAxVF0EGg1"
      },
      "source": [
        "#  Unit 2.4a Using Programs with Data, SQLAlchemy\n",
        "> Using Programs with Data is focused on SQL and database actions.  Part A focuses on SQLAlchemy and an OOP programming style,\n",
        "- toc: true\n",
        "- image: /images/python.png\n",
        "- categories: []\n",
        "- type: ap\n",
        "- week: 26"
      ]
    },
    {
      "cell_type": "markdown",
      "metadata": {
        "id": "JKntxIVqEGg-"
      },
      "source": [
        "# Database and SQLAlchemy\n",
        "> In this blog we will explore using programs with data, focused on Databases.  We will use SQLite Database to learn more about using Programs with Data.  ***Use Debugging through these examples to examine Objects created in Code***.\n",
        "\n",
        "- College Board talks about ideas like \n",
        "    - Program Usage. \"iterative and interactive way when processing information\"\n",
        "    - Managing Data.  \"classifying data are part of the process in using programs\", \"data files in a Table\"\n",
        "    - Insight \"insight and knowledge can be obtained from ...  digitally represented information\"\n",
        "    - Filter systems. 'tools for finding information and recognizing patterns\"\n",
        "    - Application. \"the preserve has two databases\", \"an employee wants to count the number of book\"\n",
        "\n",
        "- PBL, Databases, Iterative/OOP\n",
        "    - Iterative. Refers to a sequence of instructions or code being repeated until a specific end result is achieved\n",
        "    - OOP. A computer programming model that organizes software design around data, or objects, rather than functions and logic\n",
        "    - SQL. Structured Query Language, abbreviated as SQL, is a language used in programming, managing, and structuring data \n"
      ]
    },
    {
      "attachments": {},
      "cell_type": "markdown",
      "metadata": {
        "id": "7ba2fWZZEGg_"
      },
      "source": [
        "## Imports and Flask Objects\n",
        "> Defines and key object creations\n",
        "\n",
        "- Comment on where you have observed these working?  Provide a defintion of purpose.\n",
        "    1. Flask app object\n",
        "       - We've seen these on our previous projects, like the scrum project and the create performance task\n",
        "       - We use to to store our backend database on, and use the postman mehtods to accomplish this\n",
        "       - Purpose: to configure, route, view functions,and extend the flask application\n",
        "    2. SQLAlchemy db object\n",
        "       - we've seen it in our sqlite.db file, which we use to store our databse on our project\n",
        "       - pupose: to store data and be able to manipulate it with CRUD\n"
      ]
    },
    {
      "cell_type": "code",
      "execution_count": 75,
      "metadata": {
        "id": "95A3U5KZEGhA"
      },
      "outputs": [],
      "source": [
        "\"\"\"\n",
        "These imports define the key objects\n",
        "\"\"\"\n",
        "\n",
        "from flask import Flask\n",
        "from flask_sqlalchemy import SQLAlchemy\n",
        "\n",
        "\"\"\"\n",
        "These object and definitions are used throughout the Jupyter Notebook.\n",
        "\"\"\"\n",
        "\n",
        "# Setup of key Flask object (app)\n",
        "app = Flask(__name__)\n",
        "# Setup SQLAlchemy object and properties for the database (db)\n",
        "database = 'sqlite:///sqlite.db'  # path and filename of database\n",
        "app.config['SQLALCHEMY_TRACK_MODIFICATIONS'] = False\n",
        "app.config['SQLALCHEMY_DATABASE_URI'] = database\n",
        "app.config['SECRET_KEY'] = 'SECRET_KEY'\n",
        "db = SQLAlchemy()\n",
        "\n",
        "\n",
        "# This belongs in place where it runs once per project\n",
        "db.init_app(app)\n"
      ]
    },
    {
      "attachments": {},
      "cell_type": "markdown",
      "metadata": {
        "id": "P33HDveGEGhD"
      },
      "source": [
        "## Model Definition\n",
        "> Define columns, initialization, and CRUD methods for users table in sqlite.db\n",
        "\n",
        "- Comment on these items in the class, purpose and defintion.\n",
        "    - class User\n",
        "      - a class which creates an object of thye user, storing different attibutes of said user\n",
        "      - some attributes include name, user id, password, and date of birth\n",
        "    - db.Model inheritance\n",
        "      - Inheritance is a pillar of object oriented programming\n",
        "      - the idea of inheritance is to use attributes and methods from another class to help build a different class\n",
        "    - _init_ method\n",
        "      - the __init__ method is a constructor for a class, which initializes an object of the type of the class. This method can initialize each attribute with parameters given by the user.\n",
        "    - ```@property```, ```@<column>.setter```\n",
        "      - Property is an attribute of a class, like name, brand, author, and so on\n",
        "      - setters are methods which allow a user to change an attribute of a class after it have been initialized.\n",
        "    - create, read, update, delete methods\n",
        "      - Creates a new entry into a database\n",
        "      - Reads and returns the data for the user to see\n",
        "      - Updates an entry of the data\n",
        "      - Deletes an entry of the data"
      ]
    },
    {
      "cell_type": "code",
      "execution_count": 76,
      "metadata": {
        "id": "wCMJ91TmEGhE"
      },
      "outputs": [],
      "source": [
        "\"\"\" database dependencies to support sqlite examples \"\"\"\n",
        "import datetime\n",
        "from datetime import datetime\n",
        "import json\n",
        "\n",
        "from sqlalchemy.exc import IntegrityError\n",
        "from werkzeug.security import generate_password_hash, check_password_hash\n",
        "\n",
        "\n",
        "''' Tutorial: https://www.sqlalchemy.org/library.html#tutorials, try to get into a Python shell and follow along '''\n",
        "\n",
        "# Define the User class to manage actions in the 'users' table\n",
        "# -- Object Relational Mapping (ORM) is the key concept of SQLAlchemy\n",
        "# -- a.) db.Model is like an inner layer of the onion in ORM\n",
        "# -- b.) User represents data we want to store, something that is built on db.Model\n",
        "# -- c.) SQLAlchemy ORM is layer on top of SQLAlchemy Core, then SQLAlchemy engine, SQL\n",
        "class Country(db.Model):\n",
        "    __tablename__ = 'countries'  # table name is plural, class name is singular\n",
        "\n",
        "    # Define the User schema with \"vars\" from object\n",
        "    _name = db.Column(db.String(255), unique=True, nullable=False, primary_key=True)\n",
        "    _language = db.Column(db.String(255), unique=False, nullable=False)\n",
        "    _population = db.Column(db.Integer, unique=False, nullable=False)\n",
        "    _area = db.Column(db.Integer, unique = False)\n",
        "\n",
        "    # constructor of a User object, initializes the instance variables within object (self)\n",
        "    def __init__(self, name, language, population, area):\n",
        "        self._name = name    # variables with self prefix become part of the object, \n",
        "        self._language = language\n",
        "        self._area = area\n",
        "        self._population = population\n",
        "\n",
        "    # a name getter method, extracts name from object\n",
        "    @property\n",
        "    def name(self):\n",
        "        return self._name\n",
        "    \n",
        "    # a setter function, allows name to be updated after initial object creation\n",
        "    @name.setter\n",
        "    def name(self, name):\n",
        "        self._name = name\n",
        "    \n",
        "    # a getter method, extracts uid from object\n",
        "    @property\n",
        "    def language(self):\n",
        "        return self._language\n",
        "    \n",
        "    # a setter function, allows uid to be updated after initial object creation\n",
        "    @language.setter\n",
        "    def language(self, language):\n",
        "        self._language = language\n",
        "        \n",
        "    # a getter method, extracts uid from object\n",
        "    @property\n",
        "    def area(self):\n",
        "        return self._area\n",
        "    \n",
        "    # a setter function, allows uid to be updated after initial object creation\n",
        "    @area.setter\n",
        "    def area(self, area):\n",
        "        self._area = area\n",
        "        \n",
        "   # a getter method, extracts uid from object\n",
        "    @property\n",
        "    def population(self):\n",
        "        return self._population\n",
        "    \n",
        "    # a setter function, allows uid to be updated after initial object creation\n",
        "    @population.setter\n",
        "    def population(self, population):\n",
        "        self._population = population    \n",
        "\n",
        "    # age is calculated field, age is returned according to date of birth\n",
        "    @property\n",
        "    def populationdensity(self):\n",
        "        return self._population/self._area\n",
        "    \n",
        "    # output content using str(object) is in human readable form\n",
        "    # output content using json dumps, this is ready for API response\n",
        "    def __str__(self):\n",
        "        return json.dumps(self.read())\n",
        "\n",
        "    # CRUD create/add a new record to the table\n",
        "    # returns self or None on error\n",
        "    def create(self):\n",
        "        app.app_context()\n",
        "        try:\n",
        "            # creates a person object from User(db.Model) class, passes initializers\n",
        "            db.session.add(self)  # add prepares to persist person object to Users table\n",
        "            db.session.commit()  # SqlAlchemy \"unit of work pattern\" requires a manual commit\n",
        "            return self\n",
        "        except IntegrityError:\n",
        "            db.session.remove()\n",
        "            return None\n",
        "\n",
        "    # CRUD read converts self to dictionary\n",
        "    # returns dictionary\n",
        "    def read(self):\n",
        "        return {\n",
        "            \"name\": self.name,\n",
        "            \"language\": self.language,\n",
        "            \"area\": self.area,\n",
        "            \"population\": self.population,\n",
        "            \"populationdensity\":self.populationdensity\n",
        "        }\n",
        "\n",
        "    # CRUD update: updates user name, password, phone\n",
        "    # returns self\n",
        "    def update(self, births, deaths, arrivals, departures):\n",
        "        \"\"\"only updates values with length\"\"\"\n",
        "        self._population += births-deaths+arrivals-departures\n",
        "        db.session.commit()\n",
        "        print(\"vj\")\n",
        "        return self\n",
        "\n",
        "    # CRUD delete: remove self\n",
        "    # None\n",
        "    def delete(self):\n",
        "        db.session.delete(self)\n",
        "        db.session.commit()\n",
        "        return None\n",
        "    "
      ]
    },
    {
      "attachments": {},
      "cell_type": "markdown",
      "metadata": {
        "id": "k8vLKX1WEGhH"
      },
      "source": [
        "## Initial Data\n",
        "> Uses SQLALchemy db.create_all() to initialize rows into sqlite.db\n",
        "\n",
        "- Comment on how these work?\n",
        "    1. Create All Tables from db Object\n",
        "       - uses db.create_all()\n",
        "    2. User Object Constructors\n",
        "       - when a user object like u1 is created, the User() class automatically runs the __init__ method, using the parameters to show the attributes \n",
        "    3. Try / Except \n",
        "       - these statements check if an error would occur if a statement executes, and return something if it either executes or doesn't they are a good way to debug and  \n"
      ]
    },
    {
      "cell_type": "code",
      "execution_count": 77,
      "metadata": {
        "id": "DfblNcJtEGhI"
      },
      "outputs": [
        {
          "name": "stdout",
          "output_type": "stream",
          "text": [
            "Records exist name USA, or error.\n"
          ]
        }
      ],
      "source": [
        "\"\"\"Database Creation and Testing \"\"\"\n",
        "\n",
        "\n",
        "# Builds working data for testing\n",
        "def initCountries():\n",
        "    with app.app_context():\n",
        "        \"\"\"Create database and tables\"\"\"\n",
        "        db.create_all()\n",
        "        \"\"\"Tester data for table\"\"\"\n",
        "        u1 = Country(name='USA', language='english', population=3000000, area=78425426)\n",
        "\n",
        "\n",
        "        countries = [u1]\n",
        "\n",
        "        \"\"\"Builds sample user/note(s) data\"\"\"\n",
        "        for country in countries:\n",
        "            try:\n",
        "                '''add user to table'''\n",
        "                object = country.create()\n",
        "                print(f\"Created new name {object.name}\")\n",
        "            except:  # error raised if object nit created\n",
        "                '''fails with bad or duplicate data'''\n",
        "                print(f\"Records exist name {country.name}, or error.\")\n",
        "                \n",
        "initCountries()"
      ]
    },
    {
      "attachments": {},
      "cell_type": "markdown",
      "metadata": {
        "id": "v8g2mWIWEGhK"
      },
      "source": [
        "## Check for given Credentials in users table in sqlite.db\n",
        "> Use of ORM Query object and custom methods to identify user to credentials uid and password\n",
        "\n",
        "- Comment on purpose of following\n",
        "    1. User.query.filter_by\n",
        "     - to find a person based on their user ID\n",
        "    2. user.password\n",
        "     - returns the user's password"
      ]
    },
    {
      "cell_type": "code",
      "execution_count": 78,
      "metadata": {
        "id": "lZEMo5NLEGhL"
      },
      "outputs": [
        {
          "data": {
            "text/plain": [
              "True"
            ]
          },
          "execution_count": 78,
          "metadata": {},
          "output_type": "execute_result"
        }
      ],
      "source": [
        "# SQLAlchemy extracts single user from database matching User ID\n",
        "def find_by_uid(name):\n",
        "    with app.app_context():\n",
        "        country = Country.query.filter_by(_name=name).first()\n",
        "    return country # returns user object\n",
        "\n",
        "# Check credentials by finding user and verify password\n",
        "def check_credentials(name):\n",
        "    # query email and return user record\n",
        "    country = find_by_uid(name)\n",
        "    if country == None:\n",
        "        return False\n",
        "    return True\n",
        "        \n",
        "check_credentials(\"USA\")"
      ]
    },
    {
      "attachments": {},
      "cell_type": "markdown",
      "metadata": {
        "id": "8PSD0t9mEGhM"
      },
      "source": [
        "## Create a new User in table in Sqlite.db\n",
        "> Uses SQLALchemy and custom user.create() method to add row.\n",
        "\n",
        "- Comment on purpose of following:\n",
        "  \n",
        "user.find_by_uid() and try/except:\n",
        "The purpose of using user.find_by_uid() and try/except is to handle exceptions that may occur when searching for a user with a specific unique identifier (UID). By wrapping the user.find_by_uid() method in a try/except block, any potential exceptions can be caught and handled in a controlled manner. For example, if the UID is not found in the database, the try/except block can be used to handle this error and take appropriate action, such as returning a specific error message or redirecting the user to a relevant page.\n",
        "\n",
        "user = User(...):\n",
        "The purpose of this line is to create a new instance of the User class, which may include setting various attributes and properties of the user object. This can be used to create a new user in a database or represent a user in memory for further processing. The ... in this line may represent arguments passed to the User constructor, which could include information such as the user's name, email, password, and other relevant details.\n",
        "\n",
        "user.dob and try/except:\n",
        "The purpose of using user.dob and try/except is to handle exceptions that may occur when accessing the user's date of birth (DOB) property. By wrapping this property access in a try/except block, any potential exceptions can be caught and handled in a controlled manner. For example, if the DOB is not set for the user, the try/except block can be used to handle this error and take appropriate action, such as returning a specific error message or setting a default value.\n",
        "\n",
        "user.create() and try/except:\n",
        "The purpose of using user.create() and try/except is to handle exceptions that may occur when creating a new user in a database or other persistent storage. By wrapping this method call in a try/except block, any potential exceptions can be caught and handled in a controlled manner. For example, if the user object is missing required fields or there is an issue with the database connection, the try/except block can be used to handle this error and take appropriate action, such as rolling back any changes or returning a specific error message."
      ]
    },
    {
      "cell_type": "code",
      "execution_count": 82,
      "metadata": {
        "id": "pQJ5dhQOEGhM"
      },
      "outputs": [],
      "source": [
        "# Inputs, Try/Except, and SQLAlchemy work together to build a valid database object\n",
        "def create():\n",
        "    with app.app_context():\n",
        "        # optimize user time to see if uid exists\n",
        "        name = input(\"Enter country name:\")\n",
        "        country = find_by_uid(name)\n",
        "        try:\n",
        "            print(\"Found\\n\", country.read())\n",
        "            return\n",
        "        except:\n",
        "            pass # keep going\n",
        "        \n",
        "        # request value that ensure creating valid object\n",
        "        area = int(input(\"Enter the area:\"))\n",
        "        population = int(input(\"Enter your population\"))\n",
        "        language = input(\"enter the language:\")\n",
        "        \n",
        "        # Initialize User object before date\n",
        "        country = Country(name=name, \n",
        "                    language = language,\n",
        "                    population=population,\n",
        "                    area = area\n",
        "                    )\n",
        "        \n",
        "        country.create()\n",
        "        # create user.dob, fail with today as dob\n",
        "\n",
        "        \n",
        "create()"
      ]
    },
    {
      "attachments": {},
      "cell_type": "markdown",
      "metadata": {
        "id": "G9O60ukGEGhN"
      },
      "source": [
        "## Reading users table in sqlite.db\n",
        "> Uses SQLALchemy query.all method to read data\n",
        "\n",
        "- Comment on purpose of following\n",
        "  \n",
        "User.query.all is likely a method call in a codebase that uses an Object Relational Mapping (ORM) framework to interact with a database. It is used to retrieve all records from the User table and return them as a list.\n",
        "\n",
        "json_ready assignment and Google List Comprehension are likely code constructs used in a web application or API that accepts and returns data in JSON format. The purpose of json_ready could be to prepare data to be returned in a JSON response by converting it to a format that can be easily serialized to JSON, such as a dictionary or list of dictionaries. The purpose of a list comprehension, specifically a Google List Comprehension, could be to transform or filter a list of objects in a concise and readable way."
      ]
    },
    {
      "cell_type": "code",
      "execution_count": 81,
      "metadata": {
        "id": "Wo6BrlPzEGhO"
      },
      "outputs": [
        {
          "name": "stdout",
          "output_type": "stream",
          "text": [
            "vj\n"
          ]
        }
      ],
      "source": [
        "\n",
        "# SQLAlchemy extracts all users from database, turns each user into JSON\n",
        "def update():\n",
        "    with app.app_context():\n",
        "        name = input(\"which one?\")\n",
        "        country = find_by_uid(name)\n",
        "        births = int(input(\"Births\"))\n",
        "        deaths = int(input(\"Deaths\"))\n",
        "        arrivals = int(input(\"Arrivals\"))\n",
        "        departures = int(input(\"Departures\"))\n",
        "        country.update(births,deaths,arrivals,departures)\n",
        "update()"
      ]
    },
    {
      "cell_type": "code",
      "execution_count": null,
      "metadata": {},
      "outputs": [
        {
          "data": {
            "text/plain": [
              "[{'name': 'USA',\n",
              "  'language': 'english',\n",
              "  'area': 78425426,\n",
              "  'population': 3000000,\n",
              "  'populationdensity': 0.038252900277519694},\n",
              " {'name': 'hkufe',\n",
              "  'language': 'hfw',\n",
              "  'area': 3248,\n",
              "  'population': 238,\n",
              "  'populationdensity': 0.07327586206896551},\n",
              " {'name': 'j',\n",
              "  'language': 'hg',\n",
              "  'area': 49832,\n",
              "  'population': 2359,\n",
              "  'populationdensity': 0.047339059239043184}]"
            ]
          },
          "execution_count": 74,
          "metadata": {},
          "output_type": "execute_result"
        }
      ],
      "source": [
        "\n",
        "# SQLAlchemy extracts all users from database, turns each user into JSON\n",
        "def read():\n",
        "    with app.app_context():\n",
        "        table = Country.query.all()\n",
        "    json_ready = [country.read() for country in table] # \"List Comprehensions\", for each user add user.read() to list\n",
        "    return json_ready\n",
        "\n",
        "read()"
      ]
    },
    {
      "cell_type": "code",
      "execution_count": null,
      "metadata": {},
      "outputs": [],
      "source": [
        "def delete():\n",
        "    with app.app_context():\n",
        "        name = input(\"which one?\")\n",
        "        country = find_by_uid(name)\n",
        "        country.delete()\n",
        "delete()"
      ]
    },
    {
      "cell_type": "markdown",
      "metadata": {
        "id": "0PUGakmhEGhO"
      },
      "source": [
        "# Hacks\n",
        "- Add this Blog to you own Blogging site.  In the Blog add notes and observations on each code cell.\n",
        "- Change blog to your own database.\n",
        "- Add additional CRUD\n",
        "    - Add Update functionality to this blog.\n",
        "    - Add Delete functionality to this blog."
      ]
    }
  ],
  "metadata": {
    "colab": {
      "provenance": []
    },
    "kernelspec": {
      "display_name": "base",
      "language": "python",
      "name": "python3"
    },
    "language_info": {
      "codemirror_mode": {
        "name": "ipython",
        "version": 3
      },
      "file_extension": ".py",
      "mimetype": "text/x-python",
      "name": "python",
      "nbconvert_exporter": "python",
      "pygments_lexer": "ipython3",
      "version": "3.9.12"
    },
    "orig_nbformat": 4,
    "vscode": {
      "interpreter": {
        "hash": "8b82d5009c68ba5675978267e2b13a671f2a7143d61273c5a3813c97e0b2493d"
      }
    }
  },
  "nbformat": 4,
  "nbformat_minor": 0
}
