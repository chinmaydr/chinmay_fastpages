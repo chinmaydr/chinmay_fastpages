{
 "cells": [
  {
   "attachments": {},
   "cell_type": "markdown",
   "metadata": {},
   "source": [
    "# 3.17 - 3.18\n",
    "- title: Homework 3.17 - 3.18\n",
    "- permalink: /homework1718"
   ]
  },
  {
   "attachments": {},
   "cell_type": "markdown",
   "metadata": {},
   "source": [
    "# 3.17 Algorithmic Efficiency"
   ]
  },
  {
   "attachments": {},
   "cell_type": "markdown",
   "metadata": {},
   "source": [
    "## Vocabulary\n",
    "- Problem: a general description of a task that can or cannot be solved algorithmically\n",
    "    - Decision Problem: A problem with a yes or no answer\n",
    "    - Organization Problem: a problem with a goal of finding the best answer\n",
    "- Instance: a problem with a specific input\n",
    "- Efficiency: amount of computing needed to solve a problem\n",
    "    - Polynomial Efficiency (Good): more work takes a proportional amount of time (1 job is +2 time)\n",
    "    - Exponential Efficiency (Bad): more work takes an exponential amount more time (1 job is 2x time)\n",
    "- Heuristic Approach: When optimal solutions are inefficient, look for a possibly optimal solution that is more efficient\n",
    "- Decidable Problem: A decision problem that has a clear solution that will always make a correct output\n",
    "- Undecidable Problem: A decision problem with no solution that is not gaurenteed to produce the correct output\n"
   ]
  },
  {
   "attachments": {},
   "cell_type": "markdown",
   "metadata": {},
   "source": [
    "## Notes\n",
    "- Typically, it is good if something can be achieved in polynomial time, because it meand that if one operation takes one second, x operations take x  seconds\n",
    "- on the other hand exponential efficiency would mean that each operation takes more time than the previous, like a program that would calculate a factorial\n",
    "- Polynomial efficiency can nave varying levels, like n^2, n^3, n^4, and so on\n",
    "- Exponential efficiency is linke 2^x, 3^x, or 4^x\n",
    "- A heuristic approach is to sacrifice a 100% guarantee of a correct answer to save on time and complexity\n",
    "  - heuristic approaches can be helpful in cases where a 100% correct solution isn't necessary"
   ]
  },
  {
   "attachments": {},
   "cell_type": "markdown",
   "metadata": {},
   "source": [
    "## Challenge\n",
    "Try and fix this ineficcient code!\n",
    "Only change the code between the two commented lines.\n",
    "Fully programmed solution will improve your grade, at a minimum show that you tried."
   ]
  },
  {
   "cell_type": "code",
   "execution_count": 10,
   "metadata": {},
   "outputs": [
    {
     "name": "stdout",
     "output_type": "stream",
     "text": [
      "1.1352005004882812 seconds\n"
     ]
    }
   ],
   "source": [
    "import time\n",
    "numlist = [1,3,5,7,9,11,13,15,17,19]\n",
    "valuelist = [0,3,6,9,12,15,18,21]\n",
    "def isvalue(value,array):\n",
    "    min = 0\n",
    "    max = len(array)-1\n",
    "    if value < array[min] or value > array[max]:\n",
    "        return False\n",
    "    while min < max:\n",
    "        mid = (min+max)//2\n",
    "        if array[mid] > value:\n",
    "            max = mid\n",
    "        elif array[mid] < value:\n",
    "            min = mid\n",
    "        elif array[mid] == value:\n",
    "            return True\n",
    "        if max == min+1:\n",
    "            return False\n",
    "starttime = time.time()\n",
    "for i in range(100000):\n",
    "    for i in range(len(valuelist)):\n",
    "        x = isvalue(valuelist[i],numlist)\n",
    "endtime = time.time()\n",
    "print(endtime-starttime,'seconds') "
   ]
  },
  {
   "attachments": {},
   "cell_type": "markdown",
   "metadata": {},
   "source": [
    "# 3.18 Undecidable Problems"
   ]
  },
  {
   "attachments": {},
   "cell_type": "markdown",
   "metadata": {},
   "source": [
    "## Notes\n",
    "- Computers can't do everything\n",
    "- certain problems, such as the halting problem, cause them to get stuck\n",
    "- to solve an undecidable problem, we can use a heuristic approach\n",
    "- Undecidable problems occur in everyday life, showing certain machines just cant be made."
   ]
  },
  {
   "attachments": {},
   "cell_type": "markdown",
   "metadata": {},
   "source": [
    "# Homework!\n",
    "\n",
    "Make an algorithm that finds the fastest route that hits every location once starting and ending at Del Norte. Make sure to show your thinking. If you are strugling, try using a huristic approach. Remember, what matters more than having perfectly functioning code is that you tried your hardest."
   ]
  },
  {
   "cell_type": "code",
   "execution_count": 2,
   "metadata": {},
   "outputs": [],
   "source": [
    "# RUN THIS CODE --- DO NOT EDIT\n",
    "dataset = {\n",
    "    'Del Norte':{\n",
    "        'Westview':15,\n",
    "        'MtCarmel':20,\n",
    "        'Poway':35,\n",
    "        'RanchoBernardo':50\n",
    "    },\n",
    "    'Westview':{\n",
    "        'Del Norte':15,\n",
    "        'MtCarmel':35,\n",
    "        'Poway':25,\n",
    "        'RanchoBernardo': 45\n",
    "    },\n",
    "    'MtCarmel':{\n",
    "        'Westview':35,\n",
    "        'Del Norte':20,\n",
    "        'Poway':40,\n",
    "        'RanchoBernardo':30\n",
    "    },\n",
    "    'Poway':{\n",
    "        'Westview':25,\n",
    "        'MtCarmel':40,\n",
    "        'Del Norte':35,\n",
    "        'RanchoBernardo':15\n",
    "    },\n",
    "    'RanchoBernardo':{\n",
    "        'Westview':45,\n",
    "        'MtCarmel':30,\n",
    "        'Poway':15,\n",
    "        'Del Norte':50\n",
    "    }\n",
    "}"
   ]
  },
  {
   "cell_type": "code",
   "execution_count": 3,
   "metadata": {},
   "outputs": [
    {
     "name": "stdout",
     "output_type": "stream",
     "text": [
      "The shortest route from Del Norte stopping at each city and returning is 105\n",
      "The cities on the route in order are:\n",
      "Del Norte\n",
      "MtCarmel\n",
      "RanchoBernardo\n",
      "Poway\n",
      "Westview\n",
      "Del Norte\n"
     ]
    }
   ],
   "source": [
    "start = 'Del Norte'\n",
    "schools = {'Del Norte':0,'Westview':1,'MtCarmel':2,'Poway':3,'RanchoBernardo':4}\n",
    "order = [['Del Norte',0,[False,False,False,False,False],[\"Del Norte\"]]]\n",
    "bestdist = 100000000000000\n",
    "bestlist = []\n",
    "while len(order) > 0:\n",
    "    curr = order.pop()\n",
    "    curr[2][schools[curr[0]]] = True\n",
    "    if curr[2] == [True,True,True,True,True]:\n",
    "        if bestdist > curr[1]+dataset[curr[0]]['Del Norte']:\n",
    "            bestdist = curr[1]+dataset[curr[0]]['Del Norte']\n",
    "            bestlist = curr[3]\n",
    "        continue\n",
    "    for i in dataset[curr[0]].keys():\n",
    "        if curr[2][schools[i]] == False:\n",
    "            newlist = []\n",
    "            for j in curr[2]:\n",
    "                newlist.append(j)\n",
    "            newls = []\n",
    "            for j in curr[3]:\n",
    "                newls.append(j)\n",
    "            newls.append(i)\n",
    "            newcurr = [i,curr[1]+dataset[curr[0]][i],newlist,newls]\n",
    "            order.append(newcurr)\n",
    "\n",
    "print(\"The shortest route from Del Norte stopping at each city and returning is \" + str(bestdist))\n",
    "print(\"The cities on the route in order are:\")\n",
    "for i in bestlist:\n",
    "    print(i)\n",
    "print(\"Del Norte\")"
   ]
  },
  {
   "attachments": {},
   "cell_type": "markdown",
   "metadata": {},
   "source": [
    "### Grading:\n",
    "|Challenge|Homework|\n",
    "|---|---|\n",
    "|.15 pts for attempt|.65 for attempt|\n",
    "|.20 pts for complete|.70 for complete|\n",
    "|.25 pts for above and beyond|.75 pts for above and beyond|\n"
   ]
  }
 ],
 "metadata": {
  "kernelspec": {
   "display_name": "Python 3",
   "language": "python",
   "name": "python3"
  },
  "language_info": {
   "codemirror_mode": {
    "name": "ipython",
    "version": 3
   },
   "file_extension": ".py",
   "mimetype": "text/x-python",
   "name": "python",
   "nbconvert_exporter": "python",
   "pygments_lexer": "ipython3",
   "version": "3.8.10"
  },
  "orig_nbformat": 4,
  "vscode": {
   "interpreter": {
    "hash": "31f2aee4e71d21fbe5cf8b01ff0e069b9275f58929596ceb00d14d90e3e16cd6"
   }
  }
 },
 "nbformat": 4,
 "nbformat_minor": 2
}
