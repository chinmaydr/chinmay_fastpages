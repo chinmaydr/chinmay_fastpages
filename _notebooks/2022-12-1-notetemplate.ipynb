{
 "cells": [
  {
   "cell_type": "markdown",
   "metadata": {},
   "source": [
    "# Note Template\n",
    "- comments: true"
   ]
  },
  {
   "cell_type": "markdown",
   "metadata": {},
   "source": [
    "# Take some additional notes that you would like here for 3.12 and 3.13. We will be looking for additional notes from the presentation. \n"
   ]
  },
  {
   "attachments": {},
   "cell_type": "markdown",
   "metadata": {},
   "source": [
    "# What are procedures?\n",
    "\n",
    "**Fill in the blanks please:**\n",
    "\n",
    "Procedure: a named group of programming instructions that may have parameters and return values.\n",
    "\n",
    "Parameters: input values of a procedure.\n",
    "\n",
    "Arguments: specify the values of the parameters when a procedure is called\n",
    "\n",
    "Modularity: Separating a program's functions into independent pieces or blocks, each containing all the parts needed to execute a single aspect of the functionality\n",
    "\n",
    "Procedural Abstraction: provides a name for a process that allows a procedure to be used only knowing WHAT it does, not HOW it does it.\n",
    "\n",
    "What are some other names for procedures?: functions, def\n",
    "\n",
    "Why are procedures effective?: Procedures allow someone to execute a block of code that would otherwise have to be rewritten several times. This saves time and effort, and makes the code more modular.\n",
    "\n",
    "My Notes:\n",
    "- Procedures can be called recustively, meaning th same procedure can be called inside the procedure. However, for this to work, there must be some else, break, or exit case, or else the function will keep calling itself forever\n",
    "- python uses def to define a procedure but javascript uses function\n",
    "- in both languages, if you want, you can have a return statement which returns whatever you would like, and stores it in a variable if the function is set equal to a variable in the main code. \n",
    "- procedures are defined in the order name, arguments\n",
    "- a procedure must be defined before use\n"
   ]
  },
  {
   "attachments": {},
   "cell_type": "markdown",
   "metadata": {},
   "source": [
    "## <mark>Challenge 1</mark> below: Add the command that will **call** the procedure. "
   ]
  },
  {
   "cell_type": "code",
   "execution_count": 13,
   "metadata": {},
   "outputs": [
    {
     "name": "stdout",
     "output_type": "stream",
     "text": [
      "1011\n"
     ]
    }
   ],
   "source": [
    "decimal = 11\n",
    "\n",
    "def convertToBinary(n):\n",
    "    power = 0\n",
    "    while 2**power <= n:\n",
    "        power += 1\n",
    "    power -= 1\n",
    "    answer = \"\"\n",
    "    while power >= 0:\n",
    "        if  n >= 2**power:\n",
    "            n -= 2 ** power\n",
    "            answer += \"1\"\n",
    "        else:\n",
    "            answer += \"0\"\n",
    "        power -= 1\n",
    "    return answer\n",
    "print(convertToBinary(decimal))"
   ]
  },
  {
   "attachments": {},
   "cell_type": "markdown",
   "metadata": {},
   "source": [
    "## <mark>Challenge 2</mark> below: Complete the Min and Max procedure in either JavaScript and Python using the instructions from the JavaScript page. (JavaScript will get you a extra 0.1)"
   ]
  },
  {
   "cell_type": "code",
   "execution_count": 9,
   "metadata": {},
   "outputs": [
    {
     "name": "stdout",
     "output_type": "stream",
     "text": [
      "21437\n",
      "-218\n"
     ]
    }
   ],
   "source": [
    "def findMax(listnums):\n",
    "    largest = -10000000000000000\n",
    "    for i in listnums:\n",
    "        if i > largest:\n",
    "            largest = i\n",
    "    return largest\n",
    "def findMin(listnums):\n",
    "    smallest = 10000000000000000\n",
    "    for i in listnums:\n",
    "        if i < smallest:\n",
    "            smallest = i\n",
    "    return smallest\n",
    "print(findMax([1,-3,-5,2,21437,-218,109,0]))\n",
    "print(findMin([1,-3,-5,2,21437,-218,109,0]))"
   ]
  },
  {
   "attachments": {},
   "cell_type": "markdown",
   "metadata": {},
   "source": [
    "## <mark>Homework/Hacks</mark>: For the hw, you have two options, easy or hard. The easy hack is for a 2.7 + extra work for the full 3. The easy hack is simply creating your own procedure with your own creativity. Since there is a lot of leeway for this one, you must do additional work to get a 3. For the hard hack, below is the start to a character to binary convertor. This is just a template, but the goal is to translate \"APCSP\" into binary. You can delete the existing code if you want. The only contraint is that you must use a procedure. Doing this will get you a 3. "
   ]
  },
  {
   "cell_type": "code",
   "execution_count": 30,
   "metadata": {},
   "outputs": [
    {
     "name": "stdout",
     "output_type": "stream",
     "text": [
      "the second date should be after the first\n",
      "the number of days between 5/5/1900 and 8/6/2000 is 36592\n"
     ]
    }
   ],
   "source": [
    "# Easy Hack\n",
    "def daysapart(day1,month1,year1,day2,month2,year2):\n",
    "    months = [0,31,28,31,30,31,30,31,31,30,31,30,31] \n",
    "    answer = months[month1]-day1\n",
    "    for i in range(month1,len(months)):\n",
    "        answer += months[i]\n",
    "    year1copy = year1\n",
    "    while year1copy < year2:\n",
    "        answer += 365\n",
    "        year1copy += 1\n",
    "    for i in range(len(months)-1,month2-1,-1):\n",
    "        answer -= months[i]\n",
    "    answer -= months[month2]-day2\n",
    "    return answer-1\n",
    "month1 = int(input(\"enter a number of a month\"))\n",
    "day1 = int(input(\"enter a day in that month\"))\n",
    "year1 = int(input(\"enter a year\"))\n",
    "print(\"the second date should be after the first\")\n",
    "month2 = int(input(\"enter a number of a month\"))\n",
    "day2 = int(input(\"enter a day in that month\"))\n",
    "year2 = int(input(\"enter a year\"))\n",
    "print(\"the number of days between \"+str(month1)+\"/\"+str(day1)+\"/\"+str(year1)+\" and \" +str(month2)+\"/\"+str(day2)+\"/\"+str(year2)+ \" is \" +str(daysapart(day1,month1,year1,day2,month2,year2)))"
   ]
  },
  {
   "cell_type": "code",
   "execution_count": 15,
   "metadata": {},
   "outputs": [
    {
     "name": "stdout",
     "output_type": "stream",
     "text": [
      "''APCSP'' in binary is \n",
      "1000001 1010000 1000011 1010011 1010000 \n"
     ]
    }
   ],
   "source": [
    "# Hard Hack\n",
    "def charToBinary(c):\n",
    "    n = ord(c)\n",
    "    power = 0\n",
    "    while 2**power <= n:\n",
    "        power += 1\n",
    "    power -= 1\n",
    "    answer = \"\"\n",
    "    while power >= 0:\n",
    "        if  n >= 2**power:\n",
    "            n -= 2 ** power\n",
    "            answer += \"1\"\n",
    "        else:\n",
    "            answer += \"0\"\n",
    "        power -= 1\n",
    "    return answer\n",
    "answer = \"\"\n",
    "print(\"''APCSP'' in binary is \")\n",
    "for i in \"APCSP\":\n",
    "    answer = answer + charToBinary(i) + \" \"\n",
    "print(answer)\n",
    "# The output shown below is the output you are supposed to get"
   ]
  }
 ],
 "metadata": {
  "kernelspec": {
   "display_name": "Python 3.8.2 64-bit",
   "language": "python",
   "name": "python3"
  },
  "language_info": {
   "codemirror_mode": {
    "name": "ipython",
    "version": 3
   },
   "file_extension": ".py",
   "mimetype": "text/x-python",
   "name": "python",
   "nbconvert_exporter": "python",
   "pygments_lexer": "ipython3",
   "version": "3.8.10"
  },
  "orig_nbformat": 4,
  "vscode": {
   "interpreter": {
    "hash": "916dbcbb3f70747c44a77c7bcd40155683ae19c65e1c03b4aa3499c5328201f1"
   }
  }
 },
 "nbformat": 4,
 "nbformat_minor": 2
}
