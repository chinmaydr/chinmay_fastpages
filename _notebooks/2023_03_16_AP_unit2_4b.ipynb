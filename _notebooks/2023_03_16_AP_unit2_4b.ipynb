{
  "cells": [
    {
      "cell_type": "markdown",
      "metadata": {
        "id": "GgXouJ8LbcGb"
      },
      "source": [
        "#  Unit 2.4b Using Programs with Data, SQL\n",
        "> Using Programs with Data is focused on SQL and database actions.  Part B focuses on learning SQL commands, connections, and curses using an Imperative programming style,\n",
        "- toc: true\n",
        "- image: /images/python.png\n",
        "- categories: []\n",
        "- type: ap\n",
        "- week: 26"
      ]
    },
    {
      "cell_type": "markdown",
      "metadata": {
        "id": "wiL8KQdRbcGg"
      },
      "source": [
        "# Database Programming is Program with Data\n",
        "> Each Tri 2 Final Project should be an example of a Program with Data. \n",
        "\n",
        ">  Prepare to use SQLite in common Imperative Technique\n",
        "- Explore [SQLite Connect object](https://www.tutorialspoint.com/python_data_access/python_sqlite_establishing_connection.htm) to establish database connection\n",
        "- Explore [SQLite Cursor Object](https://www.tutorialspoint.com/python_data_access/python_sqlite_cursor_object.htm) to fetch data from a table within a database\n"
      ]
    },
    {
      "attachments": {},
      "cell_type": "markdown",
      "metadata": {
        "id": "gUXFKO8KbcGh"
      },
      "source": [
        "## Schema of Users table in Sqlite.db\n",
        "> Uses PRAGMA statement to read schema.\n",
        "\n",
        "Describe Schema, here is resource [Resource](https://www.sqlite.org/index.html)\n",
        "A database schema is a logical framework or blueprint for how a database is organized. It defines the structure of the database, including the tables, fields, relationships, constraints, and indexes. The schema provides a roadmap for how data is stored, organized, and accessed in the database.\n",
        "\n",
        "An identity column in a SQL database is a column that is automatically generated and incremented by the database system for each new row that is inserted into a table. The purpose of an identity column is to provide a unique identifier for each row in the table, without requiring the user to specify the value explicitly.\n",
        "\n",
        "The purpose of a primary key in a SQL database is to uniquely identify each record in a table. A primary key is a column or set of columns that has a unique value for each row in the table. The primary key is used to enforce data integrity and ensure that each record in the table can be uniquely identified.\n",
        "\n",
        "The data types in a SQL table define the type of data that can be stored in each column of the table. Some common data types in SQL include:\n",
        "\n",
        "INT: used to store integer values.\n",
        "VARCHAR: used to store variable-length character strings.\n",
        "DATE: used to store date values.\n",
        "FLOAT: used to store floating-point numbers.\n",
        "BOOLEAN: used to store boolean (true/false) values.\n",
        "BLOB: used to store binary large object data (e.g. images or documents)."
      ]
    },
    {
      "cell_type": "code",
      "execution_count": 1,
      "metadata": {
        "id": "RRBW7Qq-bcGh"
      },
      "outputs": [],
      "source": [
        "import sqlite3\n",
        "\n",
        "database = 'instance/sqlite.db' # this is location of database\n",
        "\n",
        "def schema():\n",
        "    \n",
        "    # Connect to the database file\n",
        "    conn = sqlite3.connect(database)\n",
        "\n",
        "    # Create a cursor object to execute SQL queries\n",
        "    cursor = conn.cursor()\n",
        "    \n",
        "    # Fetch results of Schema\n",
        "    results = cursor.execute(\"PRAGMA table_info('users')\").fetchall()\n",
        "\n",
        "    # Print the results\n",
        "    for row in results:\n",
        "        print(row)\n",
        "\n",
        "    # Close the database connection\n",
        "    conn.close()\n",
        "    \n",
        "schema()\n"
      ]
    },
    {
      "attachments": {},
      "cell_type": "markdown",
      "metadata": {
        "id": "_PwpYnzSbcGj"
      },
      "source": [
        "## Reading Users table in Sqlite.db\n",
        "> Uses SQL SELECT statement to read data\n",
        "SQLite is a lightweight, embedded database that supports a subset of SQL commands.\n",
        "A connection object is an instance of the sqlite3.Connection class, which represents a connection to a SQLite database. The connection object allows you to execute SQL commands and manage transactions.\n",
        "A cursor object is an instance of the sqlite3.Cursor class, which is used to execute SQL commands and fetch results from the database. The cursor object is created by the connection object and provides a way to iterate over the results of a SELECT statement.\n",
        "The conn object and cursor object have various attributes, depending on the specific implementation and library used. In general, the conn object might have attributes such as the database name, host, port, and connection status. The cursor object might have attributes such as the last executed SQL command, the current row, and the number of rows affected by the last command.\n",
        "\"results\" is likely a variable or object that holds the results of the SQL SELECT statement. Whether it is an object or not depends on how it was implemented in the code. It might be a list, tuple, dictionary, or other data structure that holds the rows returned by the SELECT statement."
      ]
    },
    {
      "cell_type": "code",
      "execution_count": 2,
      "metadata": {
        "id": "oPPejJEybcGk"
      },
      "outputs": [
        {
          "name": "stdout",
          "output_type": "stream",
          "text": [
            "('hkufe', 'hfw', 238, 3248)\n",
            "('j', 'hg', 2359, 49832)\n",
            "('India', 'lij', 1000000000, 13480)\n"
          ]
        }
      ],
      "source": [
        "import sqlite3\n",
        "\n",
        "def read():\n",
        "    # Connect to the database file\n",
        "    conn = sqlite3.connect(database)\n",
        "\n",
        "    # Create a cursor object to execute SQL queries\n",
        "    cursor = conn.cursor()\n",
        "    \n",
        "    # Execute a SELECT statement to retrieve data from a table\n",
        "    results = cursor.execute('SELECT * FROM countries').fetchall()\n",
        "\n",
        "    # Print the results\n",
        "    if len(results) == 0:\n",
        "        print(\"Table is empty\")\n",
        "    else:\n",
        "        for row in results:\n",
        "            print(row)\n",
        "\n",
        "    # Close the cursor and connection objects\n",
        "    cursor.close()\n",
        "    conn.close()\n",
        "    \n",
        "read()\n"
      ]
    },
    {
      "attachments": {},
      "cell_type": "markdown",
      "metadata": {
        "id": "xTSnc57HbcGl"
      },
      "source": [
        "## Create a new User in table in Sqlite.db\n",
        "> Uses SQL INSERT to add row\n",
        "\n",
        "The SQL CREATE statement is used to create a new database object, such as a table, view, index, or trigger. It specifies the name of the object, the columns or fields in the object, and any constraints or rules for the object. The syntax and features of the CREATE statement may vary between different SQL database systems.\n",
        "\n",
        "The SQL INSERT statement is used to add new rows of data to an existing table in a database. It specifies the name of the table, the columns or fields to insert data into, and the values to insert. The purpose of the INSERT statement is to populate a table with data, either manually or programmatically. It is similar to the __init__ method in Python classes, which is used to initialize the object with data."
      ]
    },
    {
      "cell_type": "code",
      "execution_count": 5,
      "metadata": {
        "id": "T8bcodNVbcGl"
      },
      "outputs": [
        {
          "name": "stdout",
          "output_type": "stream",
          "text": [
            "A new country record Canada has been created\n"
          ]
        }
      ],
      "source": [
        "import sqlite3\n",
        "\n",
        "def create():\n",
        "    name = input(\"Enter country name:\")\n",
        "    language = input(\"enter the language:\")\n",
        "    population = int(input(\"Enter your the population:\"))\n",
        "    area = int(input(\"Enter the area:\"))\n",
        "    \n",
        "    # Connect to the database file\n",
        "    conn = sqlite3.connect(database)\n",
        "\n",
        "    # Create a cursor object to execute SQL commands\n",
        "    cursor = conn.cursor()\n",
        "\n",
        "    try:\n",
        "        # Execute an SQL command to insert data into a table\n",
        "        cursor.execute(\"INSERT INTO countries (_name, _language, _population, _area) VALUES (?, ?, ?, ?)\", (name, language, population, area))\n",
        "        \n",
        "        # Commit the changes to the database\n",
        "        conn.commit()\n",
        "        print(f\"A new country record {name} has been created\")\n",
        "                \n",
        "    except sqlite3.Error as error:\n",
        "        print(\"Error while executing the INSERT:\", error)\n",
        "\n",
        "\n",
        "    # Close the cursor and connection objects\n",
        "    cursor.close()\n",
        "    conn.close()\n",
        "    \n",
        "create()"
      ]
    },
    {
      "attachments": {},
      "cell_type": "markdown",
      "metadata": {
        "id": "K813sK7ZbcGm"
      },
      "source": [
        "## Updating a User in table in Sqlite.db\n",
        "> Uses SQL UPDATE to modify password\n",
        "\n",
        "This is a Python function that prompts the user for a user id and an updated password, and then updates the password for that user in a SQLite database table called \"users\". If the length of the updated password is less than 2 characters, it will be set to a default password of \"gothackednewpassword123\".\n",
        "\n",
        "To use this function, you need to have a SQLite database file containing a \"users\" table with columns for user id and password. The database file should be specified in the \"conn\" variable."
      ]
    },
    {
      "cell_type": "code",
      "execution_count": 12,
      "metadata": {
        "id": "2aa4SrPWbcGn"
      },
      "outputs": [
        {
          "name": "stdout",
          "output_type": "stream",
          "text": [
            "Error while executing the UPDATE: no such table: users\n"
          ]
        }
      ],
      "source": [
        "import sqlite3\n",
        "\n",
        "def update():\n",
        "    name = input(\"Enter user name to update\")\n",
        "    population = int(input(\"enter population to update:\"))\n",
        "    # Connect to the database file\n",
        "    conn = sqlite3.connect(database)\n",
        "\n",
        "    # Create a cursor object to execute SQL commands\n",
        "    cursor = conn.cursor()\n",
        "\n",
        "    try:\n",
        "        # Execute an SQL command to update data in a table\n",
        "        cursor.execute(\"UPDATE users SET _population = ? WHERE _name = ?\", (population, name))\n",
        "        if cursor.rowcount == 0:\n",
        "            # The uid was not found in the table\n",
        "            print(f\"No name {name} was not found in the table\")\n",
        "        else:\n",
        "            print(f\"The row with name {name} the population has been updated\")\n",
        "            conn.commit()\n",
        "    except sqlite3.Error as error:\n",
        "        print(\"Error while executing the UPDATE:\", error)\n",
        "        \n",
        "    \n",
        "    # Close the cursor and connection objects\n",
        "    cursor.close()\n",
        "    conn.close()\n",
        "    \n",
        "update()\n"
      ]
    },
    {
      "attachments": {},
      "cell_type": "markdown",
      "metadata": {
        "id": "e3LKT8BXbcGn"
      },
      "source": [
        "## Delete a User in table in Sqlite.db\n",
        "> Uses a delete function to remove a user based on a user input of the id.\n",
        "- Is DELETE a dangerous operation?  Why?\n",
        "  - delete is dangerous because the information cannot be recovered\n",
        "- In the print statemements, what is the \"f\" and what does {uid} do?\n",
        "  - both of these embed the variables in the string"
      ]
    },
    {
      "cell_type": "code",
      "execution_count": 11,
      "metadata": {
        "id": "Y9b9E7qVbcGo"
      },
      "outputs": [
        {
          "ename": "NameError",
          "evalue": "name 'uid' is not defined",
          "output_type": "error",
          "traceback": [
            "\u001b[0;31m---------------------------------------------------------------------------\u001b[0m",
            "\u001b[0;31mNameError\u001b[0m                                 Traceback (most recent call last)",
            "\u001b[1;32m/home/chinmay/vscode/chinmay_fastpages/_notebooks/2023_03_16_AP_unit2_4b.ipynb Cell 12\u001b[0m in \u001b[0;36m<cell line: 28>\u001b[0;34m()\u001b[0m\n\u001b[1;32m     <a href='vscode-notebook-cell://wsl%2Bubuntu/home/chinmay/vscode/chinmay_fastpages/_notebooks/2023_03_16_AP_unit2_4b.ipynb#X14sdnNjb2RlLXJlbW90ZQ%3D%3D?line=24'>25</a>\u001b[0m     cursor\u001b[39m.\u001b[39mclose()\n\u001b[1;32m     <a href='vscode-notebook-cell://wsl%2Bubuntu/home/chinmay/vscode/chinmay_fastpages/_notebooks/2023_03_16_AP_unit2_4b.ipynb#X14sdnNjb2RlLXJlbW90ZQ%3D%3D?line=25'>26</a>\u001b[0m     conn\u001b[39m.\u001b[39mclose()\n\u001b[0;32m---> <a href='vscode-notebook-cell://wsl%2Bubuntu/home/chinmay/vscode/chinmay_fastpages/_notebooks/2023_03_16_AP_unit2_4b.ipynb#X14sdnNjb2RlLXJlbW90ZQ%3D%3D?line=27'>28</a>\u001b[0m delete()\n",
            "\u001b[1;32m/home/chinmay/vscode/chinmay_fastpages/_notebooks/2023_03_16_AP_unit2_4b.ipynb Cell 12\u001b[0m in \u001b[0;36mdelete\u001b[0;34m()\u001b[0m\n\u001b[1;32m     <a href='vscode-notebook-cell://wsl%2Bubuntu/home/chinmay/vscode/chinmay_fastpages/_notebooks/2023_03_16_AP_unit2_4b.ipynb#X14sdnNjb2RlLXJlbW90ZQ%3D%3D?line=12'>13</a>\u001b[0m cursor\u001b[39m.\u001b[39mexecute(\u001b[39m\"\u001b[39m\u001b[39mDELETE FROM countries WHERE _name = ?\u001b[39m\u001b[39m\"\u001b[39m, (name,))\n\u001b[1;32m     <a href='vscode-notebook-cell://wsl%2Bubuntu/home/chinmay/vscode/chinmay_fastpages/_notebooks/2023_03_16_AP_unit2_4b.ipynb#X14sdnNjb2RlLXJlbW90ZQ%3D%3D?line=13'>14</a>\u001b[0m \u001b[39mif\u001b[39;00m cursor\u001b[39m.\u001b[39mrowcount \u001b[39m==\u001b[39m \u001b[39m0\u001b[39m:\n\u001b[1;32m     <a href='vscode-notebook-cell://wsl%2Bubuntu/home/chinmay/vscode/chinmay_fastpages/_notebooks/2023_03_16_AP_unit2_4b.ipynb#X14sdnNjb2RlLXJlbW90ZQ%3D%3D?line=14'>15</a>\u001b[0m     \u001b[39m# The uid was not found in the table\u001b[39;00m\n\u001b[0;32m---> <a href='vscode-notebook-cell://wsl%2Bubuntu/home/chinmay/vscode/chinmay_fastpages/_notebooks/2023_03_16_AP_unit2_4b.ipynb#X14sdnNjb2RlLXJlbW90ZQ%3D%3D?line=15'>16</a>\u001b[0m     \u001b[39mprint\u001b[39m(\u001b[39mf\u001b[39m\u001b[39m\"\u001b[39m\u001b[39mNo name \u001b[39m\u001b[39m{\u001b[39;00muid\u001b[39m}\u001b[39;00m\u001b[39m was not found in the table\u001b[39m\u001b[39m\"\u001b[39m)\n\u001b[1;32m     <a href='vscode-notebook-cell://wsl%2Bubuntu/home/chinmay/vscode/chinmay_fastpages/_notebooks/2023_03_16_AP_unit2_4b.ipynb#X14sdnNjb2RlLXJlbW90ZQ%3D%3D?line=16'>17</a>\u001b[0m \u001b[39melse\u001b[39;00m:\n\u001b[1;32m     <a href='vscode-notebook-cell://wsl%2Bubuntu/home/chinmay/vscode/chinmay_fastpages/_notebooks/2023_03_16_AP_unit2_4b.ipynb#X14sdnNjb2RlLXJlbW90ZQ%3D%3D?line=17'>18</a>\u001b[0m     \u001b[39m# The uid was found in the table and the row was deleted\u001b[39;00m\n\u001b[1;32m     <a href='vscode-notebook-cell://wsl%2Bubuntu/home/chinmay/vscode/chinmay_fastpages/_notebooks/2023_03_16_AP_unit2_4b.ipynb#X14sdnNjb2RlLXJlbW90ZQ%3D%3D?line=18'>19</a>\u001b[0m     \u001b[39mprint\u001b[39m(\u001b[39mf\u001b[39m\u001b[39m\"\u001b[39m\u001b[39mThe row with name \u001b[39m\u001b[39m{\u001b[39;00mname\u001b[39m}\u001b[39;00m\u001b[39m was successfully deleted\u001b[39m\u001b[39m\"\u001b[39m)\n",
            "\u001b[0;31mNameError\u001b[0m: name 'uid' is not defined"
          ]
        }
      ],
      "source": [
        "import sqlite3\n",
        "\n",
        "def delete():\n",
        "    name = input(\"Enter name to delete\")\n",
        "\n",
        "    # Connect to the database file\n",
        "    conn = sqlite3.connect(database)\n",
        "\n",
        "    # Create a cursor object to execute SQL commands\n",
        "    cursor = conn.cursor()\n",
        "    \n",
        "    try:\n",
        "        cursor.execute(\"DELETE FROM countries WHERE _name = ?\", (name,))\n",
        "        if cursor.rowcount == 0:\n",
        "            # The uid was not found in the table\n",
        "            print(f\"No name {name} was not found in the table\")\n",
        "        else:\n",
        "            # The uid was found in the table and the row was deleted\n",
        "            print(f\"The row with name {name} was successfully deleted\")\n",
        "        conn.commit()\n",
        "    except sqlite3.Error as error:\n",
        "        print(\"Error while executing the DELETE:\", error)\n",
        "        \n",
        "    # Close the cursor and connection objects\n",
        "    cursor.close()\n",
        "    conn.close()\n",
        "    \n",
        "delete()"
      ]
    },
    {
      "attachments": {},
      "cell_type": "markdown",
      "metadata": {
        "id": "THDTXHBubcGo"
      },
      "source": [
        "# Menu Interface to CRUD operations\n",
        "> CRUD and Schema interactions from one location by running menu. Observe input at the top of VSCode, observe output underneath code cell.\n",
        "- Why does the menu repeat?\n",
        "  - so we can keep doing it over and over again\n",
        "- Could you refactor this menu?  Make it work with a List?\n",
        "  - yes, by adding each operation into a list"
      ]
    },
    {
      "cell_type": "code",
      "execution_count": 10,
      "metadata": {
        "id": "L3mIHdO8bcGp"
      },
      "outputs": [
        {
          "name": "stdout",
          "output_type": "stream",
          "text": [
            "Please enter c, r, u, or d\n"
          ]
        }
      ],
      "source": [
        "# Menu, to run other cells from one control point\n",
        "def menu():\n",
        "    operation = input(\"Enter: (C)reate (R)ead (U)pdate or (D)elete or (S)chema\")\n",
        "    if operation.lower() == 'c':\n",
        "        create()\n",
        "    elif operation.lower() == 'r':\n",
        "        read()\n",
        "    elif operation.lower() == 'u':\n",
        "        update()\n",
        "    elif operation.lower() == 'd':\n",
        "        delete()\n",
        "    elif operation.lower() == 's':\n",
        "        schema()\n",
        "    elif len(operation)==0: # Escape Key\n",
        "        return\n",
        "    else:\n",
        "        print(\"Please enter c, r, u, or d\") \n",
        "    menu() # recursion, repeat menu\n",
        "        \n",
        "try:\n",
        "    menu() # start menu\n",
        "except:\n",
        "    print(\"Perform Jupyter 'Run All' prior to starting menu\")\n"
      ]
    },
    {
      "attachments": {},
      "cell_type": "markdown",
      "metadata": {
        "id": "S3YmzHAQbcGp"
      },
      "source": [
        "# Hacks\n",
        "- Add this Blog to you own Blogging site.  In the Blog add notes and observations on each code cell.\n",
        "- In this implementation, do you see procedural abstraction?\n",
        "    \n",
        "\n",
        "Reference... [sqlite documentation](https://www.sqlitetutorial.net/sqlite-python/creating-tables/)\n"
      ]
    }
  ],
  "metadata": {
    "colab": {
      "provenance": []
    },
    "kernelspec": {
      "display_name": "base",
      "language": "python",
      "name": "python3"
    },
    "language_info": {
      "codemirror_mode": {
        "name": "ipython",
        "version": 3
      },
      "file_extension": ".py",
      "mimetype": "text/x-python",
      "name": "python",
      "nbconvert_exporter": "python",
      "pygments_lexer": "ipython3",
      "version": "3.9.12"
    },
    "orig_nbformat": 4,
    "vscode": {
      "interpreter": {
        "hash": "8b82d5009c68ba5675978267e2b13a671f2a7143d61273c5a3813c97e0b2493d"
      }
    }
  },
  "nbformat": 4,
  "nbformat_minor": 0
}
