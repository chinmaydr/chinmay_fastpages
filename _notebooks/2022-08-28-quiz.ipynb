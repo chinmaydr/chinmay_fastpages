{
 "cells": [
  {
   "cell_type": "markdown",
   "metadata": {},
   "source": [
    "# Python Quiz\n",
    "> Prints something\n",
    "\n",
    "- toc: true \n",
    "- badges: true\n",
    "- comments: true\n",
    "- categories: [hacks]\n",
    "- image: fastpages/chinmay_fastpages/images/copied_from_ng/Python-logo-notext.png"
   ]
  },
  {
   "cell_type": "markdown",
   "metadata": {},
   "source": [
    "This is my quiz about python!"
   ]
  },
  {
   "cell_type": "code",
   "execution_count": 9,
   "metadata": {},
   "outputs": [
    {
     "name": "stdout",
     "output_type": "stream",
     "text": [
      "Hello, chinmay. Prepare to fail(but not actually)\n",
      "You will be graded out of 5 questions and will have a final score out of 5 and a percentage\n",
      "Too bad, we're still doing it\n",
      "import is correct \n",
      "1/1\n",
      "if is correct \n",
      "2/2\n",
      "expression is correct \n",
      "3/3\n",
      "da is wrong\n",
      "3/4\n",
      "def is correct \n",
      "4/5\n",
      "Final Score: 4/5 80.0%\n",
      "Good Job!\n"
     ]
    }
   ],
   "source": [
    "import getpass, sys\n",
    "print(\"Hello, \"+getpass.getuser()+\". Prepare to fail(but not actually)\")\n",
    "print(\"You will be graded out of 5 questions and will have a final score out of 5 and a percentage\")\n",
    "if input(\"Ready?\") == \"yes\":\n",
    "    print(\"Great, let's go!\")\n",
    "else:\n",
    "    print(\"Too bad, we're still doing it\")\n",
    "questions = [\"What command is used to include other functions that were previously developed?\",\n",
    "             \"What command is used to evaluate correct or incorrect response in this example?\",\n",
    "             \"Each 'if' command contains an '_________' to determine a true or false condition?\",\n",
    "             \"How many equal signs do you need to use in a comparison?\",\n",
    "             \"What keyword defines a function?\"]\n",
    "answers = [\"import\",\"if\",\"expression\",\"2\",\"def\"]\n",
    "#Keeping a list of questions and answers to compare  \n",
    "correct = 0\n",
    "for i in range(1,6):\n",
    "    ans = input(\"Question \"+str(i)+\": \"+questions[i-1])#Asking question to user\n",
    "    if ans == answers[i-1]:\n",
    "        print(ans+\" is correct \")\n",
    "        correct+=1#Adding to score if answer is correct\n",
    "    else:\n",
    "        print(ans+\" is wrong\")\n",
    "    print(str(correct)+\"/\"+str(i))\n",
    "print(\"Final Score: \"+str(correct)+\"/\"+\"5 \"+str(correct*100/5)+\"%\")#Multipyling by 100 to get percentages\n",
    "print(\"Good Job!\")"
   ]
  }
 ],
 "metadata": {
  "kernelspec": {
   "display_name": "Python 3.9.12 ('base': conda)",
   "language": "python",
   "name": "python3"
  },
  "language_info": {
   "codemirror_mode": {
    "name": "ipython",
    "version": 3
   },
   "file_extension": ".py",
   "mimetype": "text/x-python",
   "name": "python",
   "nbconvert_exporter": "python",
   "pygments_lexer": "ipython3",
   "version": "3.9.12"
  },
  "orig_nbformat": 4,
  "vscode": {
   "interpreter": {
    "hash": "d9767bb80f0c926f2be51240ea78c27eb3c7b52dd704c89ce42f210d283b4c5b"
   }
  }
 },
 "nbformat": 4,
 "nbformat_minor": 2
}
