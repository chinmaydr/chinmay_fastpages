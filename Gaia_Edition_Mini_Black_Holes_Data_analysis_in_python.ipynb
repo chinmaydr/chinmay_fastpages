{
  "nbformat": 4,
  "nbformat_minor": 0,
  "metadata": {
    "colab": {
      "provenance": [],
      "include_colab_link": true
    },
    "kernelspec": {
      "name": "python3",
      "display_name": "Python 3"
    },
    "language_info": {
      "name": "python"
    }
  },
  "cells": [
    {
      "cell_type": "markdown",
      "metadata": {
        "id": "view-in-github",
        "colab_type": "text"
      },
      "source": [
        "<a href=\"https://colab.research.google.com/github/chinmaydr/chinmay_fastpages/blob/master/Gaia_Edition_Mini_Black_Holes_Data_analysis_in_python.ipynb\" target=\"_parent\"><img src=\"https://colab.research.google.com/assets/colab-badge.svg\" alt=\"Open In Colab\"/></a>"
      ]
    },
    {
      "cell_type": "code",
      "source": [
        "import pandas as pd\n",
        "data = pd.read_csv(\"gaia_dr2_1.csv\")\n",
        "required = data.filter(items = ['source_id', 'radial_velocity', 'radial_velocity_error'])# making a new dataframe with only required parameters\n",
        "print(isinstance(required,pd.DataFrame))"
      ],
      "metadata": {
        "id": "gIdZB1gxqGvT"
      },
      "execution_count": null,
      "outputs": []
    },
    {
      "cell_type": "code",
      "source": [
        "from pickle import FALSE\n",
        "from shutil import ReadError\n",
        "import numpy as np# replacing a weird publishing date I noticed\n",
        "grouped = required.groupby(required.hostname)# creating groups of data based on hostname\n",
        "cleandf = required.loc[required['source_id'].isin([])]# Creating dataframes and lists to add to for each hostname\n",
        "cleanlist = []\n",
        "for i in set(required['source_id']):# going though a list of all distinct hostnames\n",
        "  this = grouped.get_group(i)\n",
        "  radvavg = this['radial_velocity'].mean()# obtaining average values for each parameter\n",
        "  radverravg = this['radial_velocity_error'].mean()\n",
        "  this['radial_velocity'] = this['radial_velocity'].replace(np.nan,radvavg)# replacing null values with averages\n",
        "  this['radial_velocity_error'] = this['radial_velocity_error'].replace(np.nan,radverravg)\n",
        "  radvstd = this['radial_velocity'].std()# obtaining standard deviation of each parameter\n",
        "  radverrstd = this['radial_velocity_error'].std()\n",
        "  exit = False\n",
        "  #counts = [0]*len(this['st_rad'])\n",
        "  '''\n",
        "  for j in range(0,len(radlist)):\n",
        "      print(j)\n",
        "      ct = 0\n",
        "      if(abs(st_radavg-radlist[j]) < st_radstd):\n",
        "        ct += 1  \n",
        "      if(abs(st_raderr1avg-raderr1list[j]) < st_raderr1std):\n",
        "        ct += 1  \n",
        "      if(abs(st_raderr2avg-raderr2list[j]) < st_raderr2std):\n",
        "        ct += 1  \n",
        "      if ct < 2:\n",
        "        exit = True\n",
        "  index = 0\n",
        "  for j in this['st_rad']:# setting done to true if difference beween st_radavg and st_rad is greater than st_radstd\n",
        "    if(abs(st_radavg-j) >= st_radstd):\n",
        "      counts[index] += 1\n",
        "    index += 1\n",
        "  index = 0\n",
        "  for j in this['st_raderr1']:# setting done to true if difference beween st_raderr1avg and st_rader1 is less than st_raderr1std\n",
        "    if(abs(st_raderr1avg-j) >= st_raderr1std):\n",
        "      counts[index] += 1\n",
        "    index += 1\n",
        "  index = 0\n",
        "  for j in this['st_raderr2']:# setting done to true if difference beween st_raderr2avg and st_raderr2 is less than st_raderr2std\n",
        "    if(abs(st_raderr2avg-j) >= st_raderr2std):\n",
        "      counts[index] += 1\n",
        "    index += 1\n",
        "  print(counts)\n",
        "  for i in counts:\n",
        "    if i < 2:\n",
        "      exit = True\n",
        "  '''\n",
        "  for index, row in this.iterrows():\n",
        "    ct = 0\n",
        "    if(abs(radvavg-row['radial_velocity']) >= radvstd):\n",
        "      ct += 1\n",
        "    if(abs(radverravg-row['radial_velocity_error']) >= radverrstd):\n",
        "      ct += 1\n",
        "    if ct < 2:\n",
        "      exit = True\n",
        "  if exit:\n",
        "    continue # moving to next hostname if done is true\n",
        "  cleanlist.append(i)\n",
        "  cleandf = pd.concat([cleandf,this])\n",
        "print(\"cleanlist length = \", len(cleanlist))\n",
        "print(\"number of hostnames = \", len(set(required['source_id'])))\n",
        "cleandf\n",
        "\n"
      ],
      "metadata": {
        "id": "Em56UV_0uDFC"
      },
      "execution_count": null,
      "outputs": []
    },
    {
      "cell_type": "code",
      "source": [
        "plot = cleandf.plot.scatter(x='radial_velocity',y = ['radial_velocity_error'])"
      ],
      "metadata": {
        "id": "1sIRGfCmbUoI"
      },
      "execution_count": null,
      "outputs": []
    },
    {
      "cell_type": "code",
      "source": [
        "print(cleanlist)"
      ],
      "metadata": {
        "id": "6uAtmJb84Yi5"
      },
      "execution_count": null,
      "outputs": []
    }
  ]
}